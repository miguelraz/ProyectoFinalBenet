{
 "cells": [
  {
   "cell_type": "markdown",
   "metadata": {
    "slideshow": {
     "slide_type": "slide"
    }
   },
   "source": [
    "\n",
    "# Modelos discretos de Depredador-Presa\n"
   ]
  },
  {
   "cell_type": "code",
   "execution_count": 1,
   "metadata": {
    "collapsed": false
   },
   "outputs": [
    {
     "name": "stderr",
     "output_type": "stream",
     "text": [
      "INFO: Nothing to be done\n",
      "INFO: METADATA might be out-of-date — you may not have the latest version of LsqFit\n",
      "INFO: Use `Pkg.update()` to get the latest versions of your packages\n",
      "INFO: Updating METADATA...\n"
     ]
    },
    {
     "ename": "LoadError",
     "evalue": "LoadError: METADATA cannot be updated. Resolve problems manually in /Users/Nina/.julia/v0.5/METADATA.\nGitError(Code:ERROR, Class:Net, curl error: Couldn't resolve host 'github.com'\n)\n in macro expansion at ./libgit2/error.jl:99 [inlined]\n in #fetch#52(::Base.LibGit2.FetchOptions, ::String, ::Function, ::Base.LibGit2.GitRemote, ::Array{AbstractString,1}) at ./libgit2/remote.jl:70\n in (::Base.LibGit2.#kw##fetch)(::Array{Any,1}, ::Base.LibGit2.#fetch, ::Base.LibGit2.GitRemote, ::Array{AbstractString,1}) at ./<missing>:0\n in #fetch#93(::String, ::String, ::Array{AbstractString,1}, ::Nullable{Base.LibGit2.AbstractCredentials}, ::Function, ::Base.LibGit2.GitRepo) at ./libgit2/libgit2.jl:164\n in (::Base.Pkg.Entry.##35#41)(::Base.LibGit2.GitRepo) at ./pkg/entry.jl:371\n in with(::Base.Pkg.Entry.##35#41, ::Base.LibGit2.GitRepo) at ./libgit2/types.jl:638\n in update(::String, ::Set{String}) at ./pkg/entry.jl:354\n in (::Base.Pkg.Dir.##2#3{Array{Any,1},Base.Pkg.Entry.#update,Tuple{String,Set{String}}})() at ./pkg/dir.jl:31\n in cd(::Base.Pkg.Dir.##2#3{Array{Any,1},Base.Pkg.Entry.#update,Tuple{String,Set{String}}}, ::String) at ./file.jl:59\n in cd(::Base.Pkg.Dir.##2#3{Array{Any,1},Base.Pkg.Entry.#update,Tuple{String,Set{String}}}, ::String) at /Applications/Julia-0.5.app/Contents/Resources/julia/lib/julia/sys.dylib:?\n in #cd#1(::Array{Any,1}, ::Function, ::Function, ::String, ::Vararg{Any,N}) at ./pkg/dir.jl:31\n in update() at ./pkg/pkg.jl:210\n in include_string(::String, ::String) at ./loading.jl:441\n in execute_request(::ZMQ.Socket, ::IJulia.Msg) at /Users/Nina/.julia/v0.5/IJulia/src/execute_request.jl:169\n in eventloop(::ZMQ.Socket) at /Users/Nina/.julia/v0.5/IJulia/src/eventloop.jl:8\n in (::IJulia.##9#15)() at ./task.jl:360\nwhile loading In[1], in expression starting on line 3",
     "output_type": "error",
     "traceback": [
      "LoadError: METADATA cannot be updated. Resolve problems manually in /Users/Nina/.julia/v0.5/METADATA.\nGitError(Code:ERROR, Class:Net, curl error: Couldn't resolve host 'github.com'\n)\n in macro expansion at ./libgit2/error.jl:99 [inlined]\n in #fetch#52(::Base.LibGit2.FetchOptions, ::String, ::Function, ::Base.LibGit2.GitRemote, ::Array{AbstractString,1}) at ./libgit2/remote.jl:70\n in (::Base.LibGit2.#kw##fetch)(::Array{Any,1}, ::Base.LibGit2.#fetch, ::Base.LibGit2.GitRemote, ::Array{AbstractString,1}) at ./<missing>:0\n in #fetch#93(::String, ::String, ::Array{AbstractString,1}, ::Nullable{Base.LibGit2.AbstractCredentials}, ::Function, ::Base.LibGit2.GitRepo) at ./libgit2/libgit2.jl:164\n in (::Base.Pkg.Entry.##35#41)(::Base.LibGit2.GitRepo) at ./pkg/entry.jl:371\n in with(::Base.Pkg.Entry.##35#41, ::Base.LibGit2.GitRepo) at ./libgit2/types.jl:638\n in update(::String, ::Set{String}) at ./pkg/entry.jl:354\n in (::Base.Pkg.Dir.##2#3{Array{Any,1},Base.Pkg.Entry.#update,Tuple{String,Set{String}}})() at ./pkg/dir.jl:31\n in cd(::Base.Pkg.Dir.##2#3{Array{Any,1},Base.Pkg.Entry.#update,Tuple{String,Set{String}}}, ::String) at ./file.jl:59\n in cd(::Base.Pkg.Dir.##2#3{Array{Any,1},Base.Pkg.Entry.#update,Tuple{String,Set{String}}}, ::String) at /Applications/Julia-0.5.app/Contents/Resources/julia/lib/julia/sys.dylib:?\n in #cd#1(::Array{Any,1}, ::Function, ::Function, ::String, ::Vararg{Any,N}) at ./pkg/dir.jl:31\n in update() at ./pkg/pkg.jl:210\n in include_string(::String, ::String) at ./loading.jl:441\n in execute_request(::ZMQ.Socket, ::IJulia.Msg) at /Users/Nina/.julia/v0.5/IJulia/src/execute_request.jl:169\n in eventloop(::ZMQ.Socket) at /Users/Nina/.julia/v0.5/IJulia/src/eventloop.jl:8\n in (::IJulia.##9#15)() at ./task.jl:360\nwhile loading In[1], in expression starting on line 3",
      "",
      " in (::Base.Pkg.Entry.##35#41)(::Base.LibGit2.GitRepo) at ./pkg/entry.jl:378",
      " in with(::Base.Pkg.Entry.##35#41, ::Base.LibGit2.GitRepo) at ./libgit2/types.jl:638",
      " in update(::String, ::Set{String}) at ./pkg/entry.jl:354",
      " in (::Base.Pkg.Dir.##2#3{Array{Any,1},Base.Pkg.Entry.#update,Tuple{String,Set{String}}})() at ./pkg/dir.jl:31",
      " in cd(::Base.Pkg.Dir.##2#3{Array{Any,1},Base.Pkg.Entry.#update,Tuple{String,Set{String}}}, ::String) at ./file.jl:59",
      " in cd(::Base.Pkg.Dir.##2#3{Array{Any,1},Base.Pkg.Entry.#update,Tuple{String,Set{String}}}, ::String) at /Applications/Julia-0.5.app/Contents/Resources/julia/lib/julia/sys.dylib:?",
      " in #cd#1(::Array{Any,1}, ::Function, ::Function, ::String, ::Vararg{Any,N}) at ./pkg/dir.jl:31",
      " in update() at ./pkg/pkg.jl:210"
     ]
    }
   ],
   "source": [
    "Pkg.add(\"LsqFit\")\n",
    "\n",
    "Pkg.update()\n",
    "\n",
    "\n",
    "\n",
    "using PyPlot, LaTeXStrings, TaylorSeries, LsqFit\n",
    "\n",
    "include(\"AutomDiff_V2.jl\")\n",
    "import AD: Dual, xdual"
   ]
  },
  {
   "cell_type": "markdown",
   "metadata": {
    "slideshow": {
     "slide_type": "slide"
    }
   },
   "source": [
    "Los Modelos de Cazador-Presa son aquellos que representan la interacción de dos especies, una como cazador y otra como presa utilziados principalmente en ecología y biología pero con un sinúmero de aplicaciones en otras áreas de física, química y hasta economía.\n",
    "\n",
    "En ecología se llaman modelos de \"Depredador—presa\" o de \"planta—hervíboro\". En este trabajo se les llama, modelos de \"Depredador-Presa\"."
   ]
  },
  {
   "cell_type": "markdown",
   "metadata": {
    "slideshow": {
     "slide_type": "subslide"
    }
   },
   "source": [
    "## Un modelo simple\n",
    "\n",
    "Siguiendo la línea del libro de  [_Allman & Rhodes_](http://bookzz.org/book/436360/381bdc \"Allman, Elizabeth S.; Rhodes, John A. 2003. Mathematical models in biology. An introduction\") usaremos un modelo simple en este trabajo:\n",
    "\n",
    "Se tienen dos especies, una de la cual es presa de la otra. También asumimos que la interacción entre las dos especies es el factor primario para determinar el tamaño de las poblaciones.\n",
    "\n",
    "Denotamos $P_t$ el tamaño de la población de presas y $Q_t$ el tamaño de la población de de depredadores en un tiempo $t$, el cambio en la población de las dos especies está interrelacionado:\n",
    "\n",
    "$$\n",
    "\\begin{aligned}\n",
    "\\Delta P &= F(P,Q)\\\\\n",
    "\\Delta Q &= G(P,Q)\n",
    "\\end{aligned}\n",
    "$$\n",
    "\n",
    "Ahora, para definir las funciones $F$ y $G$ de cambio pensemos en el caso en que no hubises predadores, la población de presas crecería hasta un punto en el que no hubiese más lugar o recursos, lo cual es modelado por la función logística:\n",
    "\n",
    "$$\n",
    "\\Delta P = rP\\left( 1-P\\right)\n",
    "$$\n",
    "\n",
    "En este modelo, $r$ es la tasa de crecimiento de las presas y 1 es su \"capacidad de carga\", podemos observar que si en algún momento $P>1$, $(1-P)<0$ y así, en el siguiente paso, la población disminuye. \n",
    "\n",
    "En cambio, si no hubiera presas los depredadores se morirían, ya que no tendrían fuente de alimentos:\n",
    "\n",
    "$$\n",
    "\\Delta Q = -u Q\n",
    "$$\n",
    "\n",
    "Con $u$ positiva y menor a 1, ya que sólo se pueden morir todos los depredadores, pero no más. (En el caso de $u=1$ la población de depredadores desaparecería.)\n",
    "\n",
    "Para introducir la interacción mutua entre las dos especies empleamos el producto $PQ$. Dado que la interacción con el depredador disminuye a la problación de presas pero beneficia a la de depredadores, obtenemos las siguientes ecuaciones:\n",
    "\n",
    "$$\n",
    "\\begin{aligned}\n",
    "\\Delta P &= rP\\left( 1-P \\right)-sPQ\\\\\n",
    "\\Delta Q &= -uQ+vPQ\n",
    "\\end{aligned}\n",
    "$$\n",
    "\n",
    "Donde $s$ y $v$ son constantes positivas que denontan que tanto afecta o beneficia la interacción entre ambas especies a las presas o a los depredadores, respectivamente.\n",
    "\n",
    "Si escribimos el modelo en términos de la población en lugar de cambios en la población lo que hay que hacer es sumar la población anterior, y obtenemos:\n",
    "\n",
    "\n",
    "\\begin{aligned}\n",
    "P_{t+1} &= P_t \\left( 1+r \\left( 1-\\frac{P_t}{K} \\right)\\right)-s P_t Q_t\\\\\n",
    "Q_{t+1} &= (1-u)Q_t+v P_t Q_t\n",
    "\\end{aligned}\n",
    "$$\n",
    "\n",
    "Con $r$, $s$, $u$ y $v$ constantes positivas, y $u<1$.\n",
    "\n",
    "Por lo general estas ecuaciones se estudian en el caso continuo, como ecuaciones diferenciales, pero la dinámica en el caso discreto es distinta. Es importante entender este caso también porque las poblaciones no cambian continuamente, así que un modelo discreto tal vez es más adecuado. \n",
    "\n",
    "Observamos que el modelo es un mapeo discreto de dos dimensiones, no-lineal y con múltiples parámetros. Definamos la función que define el mapeo:"
   ]
  },
  {
   "cell_type": "code",
   "execution_count": 2,
   "metadata": {
    "collapsed": false,
    "slideshow": {
     "slide_type": "slide"
    }
   },
   "outputs": [
    {
     "data": {
      "text/plain": [
       "CP_Simple"
      ]
     },
     "execution_count": 2,
     "metadata": {},
     "output_type": "execute_result"
    }
   ],
   "source": [
    "\"\"\"\n",
    "    CP_Simple(Xt,constantes)\n",
    "\n",
    "Dado un vector con los valores de la población de presas y depredadores \n",
    "Xt=[P,Q], realiza el siguiente paso con el modelo simple.\n",
    "\n",
    "\"\"\"\n",
    "function CP_Simple(Xt::Vector{Float64},constantes::Vector{Float64})\n",
    "    \n",
    "    @assert length(Xt)==2 && length(constantes) == 5\n",
    "    \n",
    "    r = constantes[1]\n",
    "    s = constantes[2]\n",
    "    u = constantes[3]\n",
    "    v = constantes[4]\n",
    "    K = constantes[5]\n",
    "    \n",
    "    #Asignación del paso 0\n",
    "    P0 = Xt[1]\n",
    "    Q0 = Xt[2]\n",
    "    #Evaluación del modelo\n",
    "    P1 = P0*(1+r*(1-P0/K))-s*P0*Q0\n",
    "    Q1 = (1-u)*Q0+v*P0*Q0\n",
    "    \n",
    "    #Resultados\n",
    "    [P1,Q1]   \n",
    "end"
   ]
  },
  {
   "cell_type": "code",
   "execution_count": 3,
   "metadata": {
    "collapsed": false,
    "slideshow": {
     "slide_type": "subslide"
    }
   },
   "outputs": [
    {
     "data": {
      "text/plain": [
       "mapeo_PQ_ts (generic function with 1 method)"
      ]
     },
     "execution_count": 3,
     "metadata": {},
     "output_type": "execute_result"
    }
   ],
   "source": [
    "\"\"\"\n",
    "    mapeo2D_lista(F,X_0,constantes,t)\n",
    "Dada una función `F(X_0,constantes)` que define un mapeo de 2 dimensiones\n",
    "un punto inicial `X_0` y las `constantes` en forma de vector, regresa dos\n",
    "vectores con los `t` iterados del mapeo para cada dimensión.\n",
    "\n",
    "\"\"\"\n",
    "\n",
    "function mapeo2D_lista(F::Function , X_0::Vector{Float64},constantes,t::Int64)\n",
    "    @assert length(X_0)==2 && t > 0\n",
    "    \n",
    "    X0 = X_0\n",
    "    #Definición de los vectores para almacenar resultados.\n",
    "    Ps = [X0[1]]\n",
    "    Qs = [X0[2]]\n",
    "    \n",
    "    for i in 1:t-1\n",
    "        X0 = F(X0,constantes)\n",
    "        push!(Ps,X0[1])\n",
    "        push!(Qs,X0[2])\n",
    "    end\n",
    "    Ps,Qs\n",
    "end\n",
    "\n",
    "mapeo_PQ_ts(v_0,r,s,u,v,t) = mapeo_PQ_ts(v_0,r,s,u,v,1.0,t)"
   ]
  },
  {
   "cell_type": "markdown",
   "metadata": {
    "slideshow": {
     "slide_type": "slide"
    }
   },
   "source": [
    "Veamos un ejemplo con parámetros específicos:"
   ]
  },
  {
   "cell_type": "code",
   "execution_count": 4,
   "metadata": {
    "collapsed": false,
    "slideshow": {
     "slide_type": "subslide"
    }
   },
   "outputs": [
    {
     "ename": "LoadError",
     "evalue": "LoadError: UndefVarError: plot not defined\nwhile loading In[4], in expression starting on line 7",
     "output_type": "error",
     "traceback": [
      "LoadError: UndefVarError: plot not defined\nwhile loading In[4], in expression starting on line 7",
      ""
     ]
    }
   ],
   "source": [
    "r,s,u,v,K = 1.2,.5,.7,1.6,1.\n",
    "const1 = [r,s,u,v,K]\n",
    "X0 = [1.10,0.40]\n",
    "\n",
    "Ps1,Qs1 = mapeo2D_lista(CP_Simple,X0,const1,100)\n",
    "\n",
    "plot(Ps1,label=\"Depredadores\")\n",
    "plot(Qs1,label=\"Presas\")\n",
    "xlabel(L\"t\")\n",
    "ylabel(\"Población\")\n",
    "legend()\n",
    "title(\"Ejemplo del Modelo Simple\")"
   ]
  },
  {
   "cell_type": "markdown",
   "metadata": {
    "slideshow": {
     "slide_type": "slide"
    }
   },
   "source": [
    "El gráfico muestra las características clásicas de estos modelos, poblaciones que oscilan alrededor de un punto de queilibrio, esto es más notorio si se grafica el diagrama de fase:"
   ]
  },
  {
   "cell_type": "code",
   "execution_count": 5,
   "metadata": {
    "collapsed": false,
    "slideshow": {
     "slide_type": "subslide"
    }
   },
   "outputs": [
    {
     "ename": "LoadError",
     "evalue": "LoadError: UndefVarError: plot not defined\nwhile loading In[5], in expression starting on line 1",
     "output_type": "error",
     "traceback": [
      "LoadError: UndefVarError: plot not defined\nwhile loading In[5], in expression starting on line 1",
      ""
     ]
    }
   ],
   "source": [
    "plot(Ps1,Qs1)\n",
    "xlabel(L\"P\")\n",
    "ylabel(L\"Q\")\n",
    "title(\"Diagrama de fase del modelo Simple\")"
   ]
  },
  {
   "cell_type": "markdown",
   "metadata": {
    "slideshow": {
     "slide_type": "slide"
    }
   },
   "source": [
    "## Puntos fijos\n",
    "\n",
    "Sin perder generalidad, podemos hacer $K=1$, que de todas formas puede ser absorbida por un cambio de unidades de $P$ de la forma $P'=P/K$ y absorviendo la $K$ en las constantes.\n",
    "\n",
    "Buscamos $(P,Q)$ tal que \n",
    "\n",
    "$$\n",
    "\\begin{aligned}\n",
    "P &= P \\left( 1+r \\left( 1-P \\right)\\right)-s P Q\\\\\n",
    "Q &= (1-u)Q+v P Q\n",
    "\\end{aligned}\n",
    "$$\n",
    "\n",
    "Los puntos fijos son:\n",
    "\n",
    "\n",
    "\\begin{aligned}\n",
    "E_0 &= [0.0 ,0.0]\\\\\n",
    "E_1 &= [1.0 ,0.0]\\\\\n",
    "E_2 &= \\left[\\frac{u}{v} ,\\frac{r}{s}\\left(1-\\frac{u}{ v} \\right) \\right]\n",
    "\\end{aligned}\n",
    "\n",
    "Como el modelo es de poblaciones, los puntos fijos para existir deben permanecer positivos. $E_0$ y $E_1$ siempre existen, para que la condición se cumpla en $E_3$ tenemos:\n",
    "\n",
    "$$ \n",
    "v>u\n",
    "$$\n",
    "\n",
    "El jacobiano del mapeo para $E_2$:\n",
    "\n",
    "$$\n",
    "J(E_2)=\n",
    "\\begin{pmatrix}\n",
    "1-\\frac{ru}{v} & -\\frac{su}{v} \\\\ \n",
    " \\frac{r(-u+v)}{s}& 1\n",
    "\\end{pmatrix}\n",
    "$$\n",
    "\n",
    "La ecuación característica del Jacobiano:\n",
    "\n",
    "$$\\lambda^2+\\alpha_1\\lambda+\\alpha_2=0$$\n",
    "\n",
    "con $\\alpha_1=-trJ=-2+\\frac{ru}{v}$, $\\alpha_2=detJ=1+\\frac{ru(-1-u+v)}{v}$:\n",
    "\n",
    "Entonces:\n",
    "\n",
    "$$\n",
    "\\lambda_{1,2}=-\\frac{\\alpha_1}{2}\\pm\\sqrt{\\Delta}=1-\\frac{ru}{2v}\\pm\\sqrt{\\Delta}\n",
    "$$\n",
    "\n",
    "donde $\\Delta=\\left(\\frac{\\alpha_1}{2}\\right)^2-\\alpha_2=\\frac{ru\\left(ru+4uv-4v^2\\right)}{4v^2}$\n",
    "\n",
    "Si $\\Delta>0$, entonces $r_\\Delta>-\\frac{4(uv-v^2)}{u}$, de lo contrario los eigenvalores son complejos.\n",
    "\n",
    "Seguramente cuando el valor de $\\Delta$ cambie de imaginario a real ocurrirá un cambio de comportamiento.\n",
    "\n",
    "\n",
    "Con los \n",
    "$$\n",
    "\\begin{aligned}\n",
    "\\lambda_{1,2} = 1 &\\Rightarrow  r_{\\lambda_{1,2}=1}=0 \\\\\n",
    "\\lambda_{1,2} =0 &\\Rightarrow  r_{\\lambda_{1,2}=0}=\\frac{v_{\\lambda_1=0}}{u+u^2-uv}\\\\\n",
    "\\lambda_{1,2} =-1 &\\Rightarrow  r_{\\lambda_{1,2}=-1}=\\frac{4v}{u(2+u-v)}\n",
    "\\end{aligned}\n",
    "$$\n",
    "\n",
    "\n",
    "Ahora, igualamos \n",
    "$$\n",
    "\\begin{aligned}\n",
    "r_\\Delta=r_{\\lambda_{1,2}=0} &\\Rightarrow  v_{\\lambda_{1,2}=0}=\\frac{1}{2}(1+2u) \\\\\n",
    "r_\\Delta=r_{\\lambda_{1,2}=1} &\\Rightarrow  v_{\\lambda_{1,2}=0}=1+u\n",
    "\\end{aligned}\n",
    "$$\n",
    "\n",
    "Tenemos que revisar tres intervalos, para distintas $r's$, con enfásis en $r_\\Delta$. Como observación, vemos que la constante $s$ no define la dinámica, simplemente se limita a cambiar la posición del punto de equilibro $E_2$.\n",
    "\n"
   ]
  },
  {
   "cell_type": "markdown",
   "metadata": {
    "slideshow": {
     "slide_type": "slide"
    }
   },
   "source": [
    "## Bifurcaciones\n",
    "\n",
    "Para encontrar las bifuraciones debemos fijar los parámetros y variar solamente uno de los parámetros, en este caso $r$."
   ]
  },
  {
   "cell_type": "code",
   "execution_count": 6,
   "metadata": {
    "collapsed": false,
    "slideshow": {
     "slide_type": "subslide"
    }
   },
   "outputs": [
    {
     "data": {
      "text/plain": [
       "mapeo2D_lista (generic function with 3 methods)"
      ]
     },
     "execution_count": 6,
     "metadata": {},
     "output_type": "execute_result"
    }
   ],
   "source": [
    "#Nuevo método de la función mapeo2D_lista, para quedarse sólo con cierto número de valores finales `tout`\n",
    "function mapeo2D_lista(F::Function , X_0::Vector{Float64},constantes,tin::Int64,tout::Int64)\n",
    "    \n",
    "    @assert length(X_0)==2 &&  tin > 0 && tout > 0\n",
    "    \n",
    "    X0 = X_0\n",
    "    \n",
    "    for i in 1:tin\n",
    "        X0 = F(X0,constantes)\n",
    "    end\n",
    "    \n",
    "    mapeo2D_lista(F , X0, constantes,tout)\n",
    "\n",
    "end\n",
    "\n",
    "# Otro metodo, que emplea una función para determinar el punto inicial donde empieza el mapeo.\n",
    "function mapeo2D_lista(F::Function , p::Function,constantes,tin::Int64,tout::Int64)\n",
    "    \n",
    "    X0 = p(constantes)\n",
    "    \n",
    "        mapeo2D_lista(F, X0,constantes,tin,tout)\n",
    "end"
   ]
  },
  {
   "cell_type": "code",
   "execution_count": 7,
   "metadata": {
    "collapsed": false,
    "slideshow": {
     "slide_type": "slide"
    }
   },
   "outputs": [
    {
     "data": {
      "text/plain": [
       "diagbifurc2D (generic function with 1 method)"
      ]
     },
     "execution_count": 7,
     "metadata": {},
     "output_type": "execute_result"
    }
   ],
   "source": [
    "function diagbifurc2D(F::Function, X0, rrange::Range{Float64}, tin::Int64,tout::Int64)\n",
    "    \n",
    "    #Definición de variables\n",
    "    X = Vector{Float64}(tout)\n",
    "    Y = Vector{Float64}(tout)\n",
    "    \n",
    "    xx = Array{Float64,2}(tout, length(rrange))\n",
    "    yy = Array{Float64,2}(tout, length(rrange))\n",
    "    \n",
    "    for ic in eachindex(rrange)\n",
    "        r = rrange[ic]\n",
    "        X,Y = mapeo2D_lista(F, X0,r,tin,tout)\n",
    "        \n",
    "        xx[:,ic] = X\n",
    "        yy[:,ic] = Y\n",
    "    end\n",
    "    \n",
    "    return xx,yy\n",
    "    \n",
    "end    "
   ]
  },
  {
   "cell_type": "code",
   "execution_count": 8,
   "metadata": {
    "collapsed": false,
    "slideshow": {
     "slide_type": "subslide"
    }
   },
   "outputs": [
    {
     "data": {
      "text/plain": [
       "pE2 (generic function with 1 method)"
      ]
     },
     "execution_count": 8,
     "metadata": {},
     "output_type": "execute_result"
    }
   ],
   "source": [
    "#Función para generar los valores del punto fijo E_2\n",
    "function pE2(constantes)\n",
    "    r = constantes[1]\n",
    "    s = constantes[2]\n",
    "    u = constantes[3]\n",
    "    v = constantes[4]\n",
    "    [u/v,r*(1-u/v)/s]\n",
    "end"
   ]
  },
  {
   "cell_type": "markdown",
   "metadata": {
    "slideshow": {
     "slide_type": "slide"
    }
   },
   "source": [
    "### Doblamiento de periódo.\n",
    "Primero, si tenemos $Q=0.0$, entonces el mapeo resulta como:\n",
    "\n",
    "$$P_{t+1} = P_t \\left( 1+r \\left( 1-P_t \\right)\\right)$$\n",
    "\n",
    "$$P_{t+1} =  r+P_t-rP_t^2 $$\n",
    "\n",
    "Se devería esperar un comportamiento muy similar al del mapeo cuadrático.\n"
   ]
  },
  {
   "cell_type": "code",
   "execution_count": 9,
   "metadata": {
    "collapsed": false,
    "slideshow": {
     "slide_type": "subslide"
    }
   },
   "outputs": [
    {
     "ename": "LoadError",
     "evalue": "LoadError: UndefVarError: @L_str not defined\nwhile loading In[9], in expression starting on line 2",
     "output_type": "error",
     "traceback": [
      "LoadError: UndefVarError: @L_str not defined\nwhile loading In[9], in expression starting on line 2",
      ""
     ]
    }
   ],
   "source": [
    "#Debido a una multitud de gráficos similares, esta función ayuda a graficar.\n",
    "function plot1(F::Function, X_0, range::Range, tin::Int64, tout::Int64, titulo::String)\n",
    "    \n",
    "    Ps,Qs=diagbifurc2D(F,X_0, range, tin,tout)\n",
    "    Rs = ones(size(Ps)[1])*range'\n",
    "    \n",
    "    #Cambio de forma de las matrices.\n",
    "    Ps = reshape(Ps, size(Ps)[1]*size(Ps)[2]);\n",
    "    Qs = reshape(Qs, size(Qs)[1]*size(Qs)[2]);\n",
    "    Rs = reshape(Rs, size(Rs)[1]*size(Rs)[2]);\n",
    "    \n",
    "    #Plots\n",
    "    plot(Rs,Ps,\"b,\",label=(L\"P\"))\n",
    "    plot(Rs,Qs,\"r,\",label=(L\"Q\"))\n",
    "    xlabel(L\"r\")\n",
    "    ylabel(L\"P_{\\infty},Q_{\\infty}\")\n",
    "    title(titulo)\n",
    "    legend()\n",
    "    #Resultados, en caso de usarse\n",
    "    Rs,Ps,Qs\n",
    "end\n",
    "\n",
    "plot1(F::Function, X_0, range::Range, titulo::String)=plot1(F, X_0, range,10000,500, titulo::String)"
   ]
  },
  {
   "cell_type": "code",
   "execution_count": 10,
   "metadata": {
    "collapsed": false,
    "slideshow": {
     "slide_type": "subslide"
    }
   },
   "outputs": [
    {
     "ename": "LoadError",
     "evalue": "LoadError: UndefVarError: plot1 not defined\nwhile loading In[10], in expression starting on line 7",
     "output_type": "error",
     "traceback": [
      "LoadError: UndefVarError: plot1 not defined\nwhile loading In[10], in expression starting on line 7",
      ""
     ]
    }
   ],
   "source": [
    "rrange1 = 1.5:2.0^-10:3.0\n",
    "s,u,v,K = 3.0,1.25,1.95,1.0\n",
    "X0 = [0.641,0.000]\n",
    "\n",
    "F1(Xt,r)=CP_Simple(Xt,[r,s,u,v,K]);\n",
    "\n",
    "plot1(F1, X0, rrange1, \"Diagrama de bifurcación para Q=0.0\");"
   ]
  },
  {
   "cell_type": "markdown",
   "metadata": {
    "slideshow": {
     "slide_type": "subslide"
    }
   },
   "source": [
    "Obtenemos un diagrama de bifurcación de doblamiento de periódo. Sin embargo, no nos interesa el análisis de éste, debido a que lo importante aquí es la dinámica de las dos componentes, no sólo de una. Análicemos para puntos cercanos a $Q=0.0$."
   ]
  },
  {
   "cell_type": "code",
   "execution_count": 11,
   "metadata": {
    "collapsed": false,
    "slideshow": {
     "slide_type": "slide"
    }
   },
   "outputs": [
    {
     "ename": "LoadError",
     "evalue": "LoadError: UndefVarError: @L_str not defined\nwhile loading In[11], in expression starting on line 1",
     "output_type": "error",
     "traceback": [
      "LoadError: UndefVarError: @L_str not defined\nwhile loading In[11], in expression starting on line 1",
      ""
     ]
    }
   ],
   "source": [
    "for i in 1:4\n",
    "    X0 = [0.641,10.0^(-i)]\n",
    "    Ps4,Qs4=diagbifurc2D(F1,X0, rrange1, 10000,500)\n",
    "    Rs4 = ones(size(Ps4)[1])*rrange1'\n",
    "\n",
    "    # Esto cambia las matrices en vectores; ayuda un poco para los dibujos\n",
    "    Ps4 = reshape(Ps4, size(Ps4)[1]*size(Ps4)[2]);\n",
    "    Qs4 = reshape(Qs4, size(Qs4)[1]*size(Qs4)[2]);\n",
    "    Rs4 = reshape(Rs4, size(Rs4)[1]*size(Rs4)[2]);\n",
    "    \n",
    "    subplot(220+i)\n",
    "    plot(Rs4,Ps4,\"b,\")\n",
    "    plot(Rs4,Qs4,\"r,\")\n",
    "    if i==3 && i==4 \n",
    "        xlabel(L\"r\")\n",
    "    end\n",
    "    if i==1 && i==3 \n",
    "        ylabel(L\"P_{\\infty}\")\n",
    "    end\n",
    "    title(L\"x_0=\"*\"$X0\")\n",
    "    \n",
    "end"
   ]
  },
  {
   "cell_type": "markdown",
   "metadata": {
    "slideshow": {
     "slide_type": "subslide"
    }
   },
   "source": [
    "Observemos que alrededor del $r\\sim2.8$, ocurre un cambio de comportamiento. Creemos una función para determinar este cambio de regimen."
   ]
  },
  {
   "cell_type": "code",
   "execution_count": 12,
   "metadata": {
    "collapsed": false,
    "slideshow": {
     "slide_type": "slide"
    }
   },
   "outputs": [
    {
     "data": {
      "text/plain": [
       "ordenar_eliminar_val_rep! (generic function with 2 methods)"
      ]
     },
     "execution_count": 12,
     "metadata": {},
     "output_type": "execute_result"
    }
   ],
   "source": [
    "\"\"\"\n",
    "    ordenar_eliminar_val_rep!(vec::Vector{Float64},ϵ::Float64)\n",
    "Dado un vector `vec`, ordena y quita los elementos repetidos del vector con una tolerancia `ϵ`\n",
    "\"\"\"\n",
    "function ordenar_eliminar_val_rep!(vector::Vector{Float64},ϵ::Float64)\n",
    "    \n",
    "    N=length(vector)\n",
    "    \n",
    "    sort!(vector) #Ordena el vector.\n",
    "    \n",
    "    k = 1\n",
    "    \n",
    "    for i in 2:N          \n",
    "        if abs(vector[k]-vector[k+1]) <= ϵ  #Obseva si los valores difieren más allá de epsilón.\n",
    "            deleteat!(vector,k)             #Elimina el valor repetido.            \n",
    "        else\n",
    "            k=k+1\n",
    "        end     \n",
    "    end\n",
    "    \n",
    "    vector\n",
    "    \n",
    "end\n",
    "\n",
    "#Método con ϵ predefinida.\n",
    "\n",
    "ordenar_eliminar_val_rep!(vec)=ordenar_eliminar_val_rep!(vec,1e-5)"
   ]
  },
  {
   "cell_type": "markdown",
   "metadata": {
    "slideshow": {
     "slide_type": "subslide"
    }
   },
   "source": [
    "Ahora, creamos una función que busque un aumento súbito de elementos en dos vectores, en un intervalo."
   ]
  },
  {
   "cell_type": "code",
   "execution_count": 13,
   "metadata": {
    "collapsed": false,
    "slideshow": {
     "slide_type": "slide"
    }
   },
   "outputs": [
    {
     "data": {
      "text/plain": [
       "mapeo2D_bif (generic function with 1 method)"
      ]
     },
     "execution_count": 13,
     "metadata": {},
     "output_type": "execute_result"
    }
   ],
   "source": [
    "function mapeo2D_bif(F::Function , X_0, rrange::Range, tin::Int64,tout::Int64)\n",
    "    #variable para almacenar el resultado\n",
    "    rresultado=Float64\n",
    "    \n",
    "    for i in length(rrange)-1\n",
    "        #función para r\n",
    "        r(j)=rrange[j]\n",
    "        \n",
    "        #Definición de los dos vectores.\n",
    "        vec1P,vec1Q=mapeo2D_lista(F, X_0,r(i)  ,tin,tout)\n",
    "        vec2P,vec1Q=mapeo2D_lista(F, X_0,r(i+1),tin,tout)\n",
    "        \n",
    "        #Ordenamiento de los vectores.\n",
    "        ordenar_eliminar_val_rep!(vec1P)\n",
    "        ordenar_eliminar_val_rep!(vec2P)\n",
    "        \n",
    "        #Condición.        \n",
    "        if length(vec1P)!=length(vec2P)\n",
    "            rresultado=(r(i)+r(i+1))/2\n",
    "            break\n",
    "        end        \n",
    "    end\n",
    "    \n",
    "    rresultado\n",
    "end"
   ]
  },
  {
   "cell_type": "markdown",
   "metadata": {
    "slideshow": {
     "slide_type": "slide"
    }
   },
   "source": [
    "Busquemos la región donde ocurre la bifurcación."
   ]
  },
  {
   "cell_type": "code",
   "execution_count": 14,
   "metadata": {
    "collapsed": false,
    "slideshow": {
     "slide_type": "subslide"
    }
   },
   "outputs": [
    {
     "data": {
      "text/plain": [
       "2.8499987602233885"
      ]
     },
     "execution_count": 14,
     "metadata": {},
     "output_type": "execute_result"
    }
   ],
   "source": [
    "rrange1=2.8:2.0^-20:2.85\n",
    "mapeo2D_bif(F1,[0.641,0.01], rrange1, 10000,500)"
   ]
  },
  {
   "cell_type": "code",
   "execution_count": 15,
   "metadata": {
    "collapsed": false,
    "slideshow": {
     "slide_type": "subslide"
    }
   },
   "outputs": [
    {
     "data": {
      "text/plain": [
       "2.8499987602233885"
      ]
     },
     "execution_count": 15,
     "metadata": {},
     "output_type": "execute_result"
    }
   ],
   "source": [
    "mapeo2D_bif(F1,[0.641,0.001], rrange1, 10000,500)"
   ]
  },
  {
   "cell_type": "code",
   "execution_count": 16,
   "metadata": {
    "collapsed": false,
    "slideshow": {
     "slide_type": "subslide"
    }
   },
   "outputs": [
    {
     "data": {
      "text/plain": [
       "2.8499987602233885"
      ]
     },
     "execution_count": 16,
     "metadata": {},
     "output_type": "execute_result"
    }
   ],
   "source": [
    "mapeo2D_bif(F1,[0.641,0.0001], rrange1, 10000,500)"
   ]
  },
  {
   "cell_type": "markdown",
   "metadata": {
    "slideshow": {
     "slide_type": "subslide"
    }
   },
   "source": [
    "Observamos, que, como era de esperarse, la constante parece invariante en esa región. Grafiquemos el diagrama de fase en ese punto."
   ]
  },
  {
   "cell_type": "code",
   "execution_count": 17,
   "metadata": {
    "collapsed": false,
    "slideshow": {
     "slide_type": "slide"
    }
   },
   "outputs": [
    {
     "ename": "LoadError",
     "evalue": "LoadError: UndefVarError: @L_str not defined\nwhile loading In[17], in expression starting on line 2",
     "output_type": "error",
     "traceback": [
      "LoadError: UndefVarError: @L_str not defined\nwhile loading In[17], in expression starting on line 2",
      ""
     ]
    }
   ],
   "source": [
    "#Otra función para graficos recurrentes\n",
    "function plot2(mapeo::Function, X_0, constantes, t::Int64, titulo::String,tipo::String)\n",
    "    Ps,Qs = mapeo2D_lista(mapeo,X_0,constantes,t)\n",
    "    \n",
    "    #plots\n",
    "    plot(Ps,Qs,tipo)\n",
    "    xlabel(L\"P\")\n",
    "    ylabel(L\"Q\")\n",
    "    title(titulo)\n",
    "    return Ps,Qs    \n",
    "end\n",
    "\n",
    "#Función con el tipo de gráfico estándar\n",
    "plot2(mapeo::Function, X_0, constantes, t::Int64, titulo::String)=plot2(mapeo, X_0, constantes, t, titulo,\"b\")\n",
    "\n",
    "#Función con varias cosas ya definidas.\n",
    "plot2(mapeo::Function, X_0, constantes, titulo::String)=plot2(mapeo, X_0, constantes,100, titulo)\n",
    "\n",
    "#Para ignorar los primeros tin\n",
    "function plot2(mapeo::Function, X_0, constantes, tin::Int64,tout::Int64, titulo::String,tipo::String)\n",
    "    Ps,Qs = mapeo2D_lista(mapeo,X_0,constantes,tin,tout)\n",
    "    \n",
    "    #plots\n",
    "    plot(Ps,Qs,tipo)\n",
    "    xlabel(L\"P\")\n",
    "    ylabel(L\"Q\")\n",
    "    title(titulo)\n",
    "    return Ps,Qs    \n",
    "end"
   ]
  },
  {
   "cell_type": "code",
   "execution_count": 18,
   "metadata": {
    "collapsed": false,
    "slideshow": {
     "slide_type": "slide"
    }
   },
   "outputs": [
    {
     "ename": "LoadError",
     "evalue": "LoadError: UndefVarError: plot2 not defined\nwhile loading In[18], in expression starting on line 5",
     "output_type": "error",
     "traceback": [
      "LoadError: UndefVarError: plot2 not defined\nwhile loading In[18], in expression starting on line 5",
      ""
     ]
    }
   ],
   "source": [
    "r = 2.8499987602233885\n",
    "const1 = [r,s,u,v,K]\n",
    "X0 = [0.641,0.01]\n",
    "\n",
    "plot2(CP_Simple,X0,const1,\"Gráfico en la bifurcación\");\n"
   ]
  },
  {
   "cell_type": "markdown",
   "metadata": {
    "slideshow": {
     "slide_type": "subslide"
    }
   },
   "source": [
    "Se tiene un caso, que parece ser de periódo 3, en el que las depredadores se extinguen, y queda el comportamiento oscilante de las presas, cuyo equilibrio se define por el diagrama de bifurcación."
   ]
  },
  {
   "cell_type": "markdown",
   "metadata": {
    "slideshow": {
     "slide_type": "slide"
    }
   },
   "source": [
    "## Bifurcación del punto de equilibrio. Otro caso."
   ]
  },
  {
   "cell_type": "markdown",
   "metadata": {
    "slideshow": {
     "slide_type": "slide"
    }
   },
   "source": [
    "Si ahora, buscamos cerca de las zona donde los eigenvalores del Jacobiano en el punto de equilibro $E_2$ se vuelven imaginarios. Es decir $r_\\Delta<-\\frac{4(uv-v^2)}{u}$"
   ]
  },
  {
   "cell_type": "code",
   "execution_count": 19,
   "metadata": {
    "collapsed": false,
    "slideshow": {
     "slide_type": "subslide"
    }
   },
   "outputs": [
    {
     "data": {
      "text/plain": [
       "4.367999999999999"
      ]
     },
     "execution_count": 19,
     "metadata": {},
     "output_type": "execute_result"
    }
   ],
   "source": [
    "s,u,v,K = 3.0,1.25,1.95,1.0\n",
    "-4*(u*v-v^2)/u"
   ]
  },
  {
   "cell_type": "code",
   "execution_count": 20,
   "metadata": {
    "collapsed": false,
    "slideshow": {
     "slide_type": "subslide"
    }
   },
   "outputs": [
    {
     "ename": "LoadError",
     "evalue": "LoadError: UndefVarError: plot1 not defined\nwhile loading In[20], in expression starting on line 6",
     "output_type": "error",
     "traceback": [
      "LoadError: UndefVarError: plot1 not defined\nwhile loading In[20], in expression starting on line 6",
      ""
     ]
    }
   ],
   "source": [
    "rrange1 = 4.2:2.0^-11:5.0\n",
    "\n",
    "#La función p sirve para definir valores iniciales cercanobs al punto de equilibrio\n",
    "p4(r)=[0.641,pE2([r,s,u,v])[2]-0.061]\n",
    "\n",
    "plot1(F1, p4, rrange1, \"Valores cercanos a los Eigenvalores complejos\");"
   ]
  },
  {
   "cell_type": "markdown",
   "metadata": {
    "slideshow": {
     "slide_type": "subslide"
    }
   },
   "source": [
    "La dinámica en el punto parece ser normal, las condiciones se van al punto de equilibrio, sin embargo aparece una zona de comportamiento anormal."
   ]
  },
  {
   "cell_type": "code",
   "execution_count": 21,
   "metadata": {
    "collapsed": false,
    "slideshow": {
     "slide_type": "slide"
    }
   },
   "outputs": [
    {
     "data": {
      "text/plain": [
       "plot1 (generic function with 1 method)"
      ]
     },
     "execution_count": 21,
     "metadata": {},
     "output_type": "execute_result"
    }
   ],
   "source": [
    "#Otro metodo que permite graficar lineas que separan regiones\n",
    "function plot1(F::Function, X_0, range::Range, A::Vector{Float64}, titulo::String)\n",
    "    for i in 1:length(A)\n",
    "        plot([A[i],A[i]],[0.36,0.80],\"g\")\n",
    "    end\n",
    "    plot1(F, X_0, range, titulo)\n",
    "end"
   ]
  },
  {
   "cell_type": "code",
   "execution_count": 22,
   "metadata": {
    "collapsed": false,
    "slideshow": {
     "slide_type": "subslide"
    }
   },
   "outputs": [
    {
     "name": "stderr",
     "output_type": "stream",
     "text": [
      "WARNING: Method definition p4(Any) in module Main at In[20]:4 overwritten at In[22]:4.\n"
     ]
    },
    {
     "ename": "LoadError",
     "evalue": "LoadError: UndefVarError: plot not defined\nwhile loading In[22], in expression starting on line 9",
     "output_type": "error",
     "traceback": [
      "LoadError: UndefVarError: plot not defined\nwhile loading In[22], in expression starting on line 9",
      "",
      " in plot1(::Function, ::Function, ::FloatRange{Float64}, ::Array{Float64,1}, ::String) at ./In[21]:4"
     ]
    }
   ],
   "source": [
    "rrange1 = 4.76:2.0^-13:4.9\n",
    "\n",
    "#La función p sirve para definir valores iniciales cercanobs al punto de equilibrio\n",
    "p4(r)=[0.641,pE2([r,s,u,v])[2]-0.061]\n",
    "\n",
    "#Lineas que dividen las regiones\n",
    "A=[4.782921348,4.785393258,4.810337079,4.814157303,4.863595506,4.877752809]\n",
    "\n",
    "Rs4,Ps4,Qs4=plot1(F1, p4, rrange1, A, \"Zona de bifurcaciones en 2 dimensiones\");"
   ]
  },
  {
   "cell_type": "markdown",
   "metadata": {
    "slideshow": {
     "slide_type": "subslide"
    }
   },
   "source": [
    "Observamos que tenemos regiones de comportamiento extraño, y ¡Una zona con bifurcaciones en 2 dimensiones!, enseguida graficamos en dos dimensiones el diagrama de fase."
   ]
  },
  {
   "cell_type": "code",
   "execution_count": 23,
   "metadata": {
    "collapsed": false,
    "slideshow": {
     "slide_type": "slide"
    }
   },
   "outputs": [
    {
     "ename": "LoadError",
     "evalue": "LoadError: UndefVarError: plot3D not defined\nwhile loading In[23], in expression starting on line 1",
     "output_type": "error",
     "traceback": [
      "LoadError: UndefVarError: plot3D not defined\nwhile loading In[23], in expression starting on line 1",
      ""
     ]
    }
   ],
   "source": [
    "plot3D(Rs4,Ps4,Qs4,\"b,\")\n",
    "xlabel(L\"r\")\n",
    "ylabel(L\"P_\\infty\")\n",
    "zlabel(L\"Q_\\infty\")\n",
    "title(\"Zona de bifurcaciones en el espacio\")"
   ]
  },
  {
   "cell_type": "markdown",
   "metadata": {
    "slideshow": {
     "slide_type": "subslide"
    }
   },
   "source": [
    "Tenemos tres regiones de interés, marcadas entre líneas verdes:"
   ]
  },
  {
   "cell_type": "code",
   "execution_count": 24,
   "metadata": {
    "collapsed": false,
    "slideshow": {
     "slide_type": "subslide"
    }
   },
   "outputs": [
    {
     "ename": "LoadError",
     "evalue": "LoadError: MethodError: no method matching plot1(::#F1, ::#p4, ::FloatRange{Float64}, ::Int64, ::Int64, ::String)\nClosest candidates are:\n  plot1(::Function, ::Any, ::Range{T}, !Matched::Array{Float64,1}, !Matched::String) at In[21]:3\nwhile loading In[24], in expression starting on line 2",
     "output_type": "error",
     "traceback": [
      "LoadError: MethodError: no method matching plot1(::#F1, ::#p4, ::FloatRange{Float64}, ::Int64, ::Int64, ::String)\nClosest candidates are:\n  plot1(::Function, ::Any, ::Range{T}, !Matched::Array{Float64,1}, !Matched::String) at In[21]:3\nwhile loading In[24], in expression starting on line 2",
      ""
     ]
    }
   ],
   "source": [
    "rrange1 = 4.782921348:2.0^-17:4.785393258\n",
    "Rs,Ps6,Qs6 = plot1(F1, p4, rrange1, 100000,3000, \"Región 1\");"
   ]
  },
  {
   "cell_type": "markdown",
   "metadata": {
    "slideshow": {
     "slide_type": "subslide"
    }
   },
   "source": [
    "Se observa una región de extrañas bifurcaciones, entre zonas muy ruidosas. Parece ser la superposición de distintos comportamientos."
   ]
  },
  {
   "cell_type": "markdown",
   "metadata": {
    "slideshow": {
     "slide_type": "subslide"
    }
   },
   "source": [
    "La región 2 tiene un comportamiento más sencillo de definir."
   ]
  },
  {
   "cell_type": "code",
   "execution_count": 25,
   "metadata": {
    "collapsed": false,
    "slideshow": {
     "slide_type": "slide"
    }
   },
   "outputs": [
    {
     "ename": "LoadError",
     "evalue": "LoadError: MethodError: no method matching plot1(::#F1, ::#p4, ::FloatRange{Float64}, ::Int64, ::Int64, ::String)\nClosest candidates are:\n  plot1(::Function, ::Any, ::Range{T}, !Matched::Array{Float64,1}, !Matched::String) at In[21]:3\nwhile loading In[25], in expression starting on line 2",
     "output_type": "error",
     "traceback": [
      "LoadError: MethodError: no method matching plot1(::#F1, ::#p4, ::FloatRange{Float64}, ::Int64, ::Int64, ::String)\nClosest candidates are:\n  plot1(::Function, ::Any, ::Range{T}, !Matched::Array{Float64,1}, !Matched::String) at In[21]:3\nwhile loading In[25], in expression starting on line 2",
      ""
     ]
    }
   ],
   "source": [
    "rrange1 = 4.810337079:2.0^-17:4.814157303\n",
    "plot1(F1, p4, rrange1, 100000,3000, \"Región 2\");"
   ]
  },
  {
   "cell_type": "markdown",
   "metadata": {
    "slideshow": {
     "slide_type": "subslide"
    }
   },
   "source": [
    "En el siguiente gráfico vemos como hay una región donde el mapeo tiende a 4 zonas, que ha medida que el valor de $r$, se vuelven más cerradas."
   ]
  },
  {
   "cell_type": "code",
   "execution_count": 26,
   "metadata": {
    "collapsed": false,
    "slideshow": {
     "slide_type": "slide"
    }
   },
   "outputs": [
    {
     "ename": "LoadError",
     "evalue": "LoadError: UndefVarError: plot2 not defined\nwhile loading In[26], in expression starting on line 3",
     "output_type": "error",
     "traceback": [
      "LoadError: UndefVarError: plot2 not defined\nwhile loading In[26], in expression starting on line 3",
      ""
     ]
    }
   ],
   "source": [
    "r = 4.81+0.001\n",
    "X0 =  p4(r)\n",
    "plot2(F1, X0, r, 2000,500, \"Curvas de convergencia en la región 2 con r=$r\",\"b,\");"
   ]
  },
  {
   "cell_type": "markdown",
   "metadata": {
    "slideshow": {
     "slide_type": "subslide"
    }
   },
   "source": [
    "Aquí ya las zonas están bastante cerradas."
   ]
  },
  {
   "cell_type": "code",
   "execution_count": 27,
   "metadata": {
    "collapsed": false,
    "slideshow": {
     "slide_type": "slide"
    }
   },
   "outputs": [
    {
     "ename": "LoadError",
     "evalue": "LoadError: UndefVarError: plot2 not defined\nwhile loading In[27], in expression starting on line 3",
     "output_type": "error",
     "traceback": [
      "LoadError: UndefVarError: plot2 not defined\nwhile loading In[27], in expression starting on line 3",
      ""
     ]
    }
   ],
   "source": [
    "r = 4.81+0.004\n",
    "X0 =  p4(r)\n",
    "plot2(F1, X0, r, 2000,500, \"Curvas de convergencia en la región 2 con r=$r\",\"b,\");"
   ]
  },
  {
   "cell_type": "code",
   "execution_count": 28,
   "metadata": {
    "collapsed": false,
    "slideshow": {
     "slide_type": "subslide"
    }
   },
   "outputs": [
    {
     "ename": "LoadError",
     "evalue": "LoadError: UndefVarError: plot2 not defined\nwhile loading In[28], in expression starting on line 1",
     "output_type": "error",
     "traceback": [
      "LoadError: UndefVarError: plot2 not defined\nwhile loading In[28], in expression starting on line 1",
      ""
     ]
    }
   ],
   "source": [
    "plot2(mapeo::Function, X_0, constantes, t::Int64, titulo::String)"
   ]
  },
  {
   "cell_type": "code",
   "execution_count": 29,
   "metadata": {
    "collapsed": false,
    "slideshow": {
     "slide_type": "slide"
    }
   },
   "outputs": [
    {
     "ename": "LoadError",
     "evalue": "LoadError: MethodError: no method matching plot1(::#F1, ::#p4, ::FloatRange{Float64}, ::Int64, ::Int64, ::String)\nClosest candidates are:\n  plot1(::Function, ::Any, ::Range{T}, !Matched::Array{Float64,1}, !Matched::String) at In[21]:3\nwhile loading In[29], in expression starting on line 2",
     "output_type": "error",
     "traceback": [
      "LoadError: MethodError: no method matching plot1(::#F1, ::#p4, ::FloatRange{Float64}, ::Int64, ::Int64, ::String)\nClosest candidates are:\n  plot1(::Function, ::Any, ::Range{T}, !Matched::Array{Float64,1}, !Matched::String) at In[21]:3\nwhile loading In[29], in expression starting on line 2",
      ""
     ]
    }
   ],
   "source": [
    "rrange1 = 4.863595506:2.0^-17:4.877752809\n",
    "plot1(F1, p4, rrange1, 100000,3000, \"Región 3\");"
   ]
  },
  {
   "cell_type": "markdown",
   "metadata": {
    "slideshow": {
     "slide_type": "subslide"
    }
   },
   "source": [
    "En la región 3 tenemos un comportamiento muy similar al que ocurre en las zonas de doblamiento de periodo de una dimensión, pero en lugar de tener la bifurcación en un plano, la tenemos en el espacio."
   ]
  },
  {
   "cell_type": "code",
   "execution_count": 30,
   "metadata": {
    "collapsed": false,
    "slideshow": {
     "slide_type": "slide"
    }
   },
   "outputs": [
    {
     "ename": "LoadError",
     "evalue": "LoadError: UndefVarError: subplot not defined\nwhile loading In[30], in expression starting on line 1",
     "output_type": "error",
     "traceback": [
      "LoadError: UndefVarError: subplot not defined\nwhile loading In[30], in expression starting on line 1",
      ""
     ]
    }
   ],
   "source": [
    "subplot(121)\n",
    "r = 4.866\n",
    "X0 =  p4(r)\n",
    "plot2(F1, X0, r, 10000, \"Périodo 1, r=$r\");\n",
    "\n",
    "subplot(122)\n",
    "r = 4.872\n",
    "X0 =  p4(r)\n",
    "plot2(F1, X0, r, 10000, \"Périodo 2, r=$r\");"
   ]
  },
  {
   "cell_type": "code",
   "execution_count": 31,
   "metadata": {
    "collapsed": false,
    "slideshow": {
     "slide_type": "subslide"
    }
   },
   "outputs": [
    {
     "ename": "LoadError",
     "evalue": "LoadError: UndefVarError: subplot not defined\nwhile loading In[31], in expression starting on line 1",
     "output_type": "error",
     "traceback": [
      "LoadError: UndefVarError: subplot not defined\nwhile loading In[31], in expression starting on line 1",
      ""
     ]
    }
   ],
   "source": [
    "subplot(121)\n",
    "r = 4.8755\n",
    "X0 =  p4(r)\n",
    "plot2(F1, X0, r, 10000, \"Périodo 4, r=$r\");\n",
    "\n",
    "subplot(122)\n",
    "r = 4.8765\n",
    "X0 =  p4(r)\n",
    "plot2(F1, X0, r, 10000, \"Périodo 8, r=$r\");"
   ]
  },
  {
   "cell_type": "code",
   "execution_count": 32,
   "metadata": {
    "collapsed": false,
    "slideshow": {
     "slide_type": "subslide"
    }
   },
   "outputs": [
    {
     "ename": "LoadError",
     "evalue": "LoadError: UndefVarError: plot2 not defined\nwhile loading In[32], in expression starting on line 3",
     "output_type": "error",
     "traceback": [
      "LoadError: UndefVarError: plot2 not defined\nwhile loading In[32], in expression starting on line 3",
      ""
     ]
    }
   ],
   "source": [
    "r = 4.814157303\n",
    "X0 =  p4(r)\n",
    "plot2(F1, X0, r, 10000, \"Périodo grande, r=$r\",\"b,\");"
   ]
  },
  {
   "cell_type": "markdown",
   "metadata": {
    "slideshow": {
     "slide_type": "subslide"
    }
   },
   "source": [
    "Observamos que las bifurcaciones aumentan alrededor de 4 puntos de equilibrio."
   ]
  },
  {
   "cell_type": "markdown",
   "metadata": {
    "slideshow": {
     "slide_type": "slide"
    }
   },
   "source": [
    "## Valores cercanos a $v_{\\lambda_{1,2}=0}=1+u$ ##"
   ]
  },
  {
   "cell_type": "markdown",
   "metadata": {
    "slideshow": {
     "slide_type": "subslide"
    }
   },
   "source": [
    "Iniciamos con las siguientes constantes, con  $v=1+u$"
   ]
  },
  {
   "cell_type": "code",
   "execution_count": 33,
   "metadata": {
    "collapsed": false,
    "slideshow": {
     "slide_type": "subslide"
    }
   },
   "outputs": [],
   "source": [
    "s,u,K = 3.0,0.25,1.0\n",
    "v=1+u\n",
    "\n",
    "const2 = [r,s,u,v,K]\n",
    "p2(r)=pE2([r,s,u,v])-[0.0,0.06]\n",
    "F2(Xt,r)=CP_Simple(Xt,[r,s,u,v,K]);"
   ]
  },
  {
   "cell_type": "code",
   "execution_count": 34,
   "metadata": {
    "collapsed": false,
    "slideshow": {
     "slide_type": "subslide"
    }
   },
   "outputs": [
    {
     "ename": "LoadError",
     "evalue": "LoadError: MethodError: no method matching plot1(::#F2, ::#p2, ::FloatRange{Float64}, ::Int64, ::Int64, ::String)\nClosest candidates are:\n  plot1(::Function, ::Any, ::Range{T}, !Matched::Array{Float64,1}, !Matched::String) at In[21]:3\nwhile loading In[34], in expression starting on line 6",
     "output_type": "error",
     "traceback": [
      "LoadError: MethodError: no method matching plot1(::#F2, ::#p2, ::FloatRange{Float64}, ::Int64, ::Int64, ::String)\nClosest candidates are:\n  plot1(::Function, ::Any, ::Range{T}, !Matched::Array{Float64,1}, !Matched::String) at In[21]:3\nwhile loading In[34], in expression starting on line 6",
      ""
     ]
    }
   ],
   "source": [
    "s,u,K = 3.0,0.25,1.0\n",
    "v=1+u\n",
    "\n",
    "const2 = [r,s,u,v,K]\n",
    "rrange2 = 0.0:2.0^-8:2.0\n",
    "plot1(F2, p2, rrange2, 20000,500, \"Gráfico con v=1+u\");"
   ]
  },
  {
   "cell_type": "markdown",
   "metadata": {
    "slideshow": {
     "slide_type": "subslide"
    }
   },
   "source": [
    "Se observa un comportamiento de trompeta: es decir, los valores tienden a una región ancha en lugar de a un punto. También vemos que mientras aumenta la $r$ la región donde converge el mapeo se va reduciendo. Grafiquemos un diagrama de fase."
   ]
  },
  {
   "cell_type": "code",
   "execution_count": 35,
   "metadata": {
    "collapsed": false,
    "slideshow": {
     "slide_type": "subslide"
    }
   },
   "outputs": [
    {
     "ename": "LoadError",
     "evalue": "LoadError: UndefVarError: plot2 not defined\nwhile loading In[35], in expression starting on line 3",
     "output_type": "error",
     "traceback": [
      "LoadError: UndefVarError: plot2 not defined\nwhile loading In[35], in expression starting on line 3",
      ""
     ]
    }
   ],
   "source": [
    "r = 0.3\n",
    "X0 =  p2(r)\n",
    "plot2(F2, X0, r, 10000, \"Diagrama de fase con r=$r y v=1+u, para los primeros n=10000\",\"b,\");"
   ]
  },
  {
   "cell_type": "markdown",
   "metadata": {
    "slideshow": {
     "slide_type": "subslide"
    }
   },
   "source": [
    "Si se aumenta el número de iterados, entonces se puede ver a donde converge el mapeo, una región cerrada del espacio fase."
   ]
  },
  {
   "cell_type": "code",
   "execution_count": 36,
   "metadata": {
    "collapsed": false,
    "slideshow": {
     "slide_type": "subslide"
    }
   },
   "outputs": [
    {
     "ename": "LoadError",
     "evalue": "LoadError: UndefVarError: plot2 not defined\nwhile loading In[36], in expression starting on line 3",
     "output_type": "error",
     "traceback": [
      "LoadError: UndefVarError: plot2 not defined\nwhile loading In[36], in expression starting on line 3",
      ""
     ]
    }
   ],
   "source": [
    "r = 0.3\n",
    "X0 =  p2(r)\n",
    "plot2(F2, X0, r, 20000,500, \"Diagrama de fase con r=$r y v=1+u, para los primeros n=10000\",\"b,\");"
   ]
  },
  {
   "cell_type": "markdown",
   "metadata": {
    "collapsed": true,
    "slideshow": {
     "slide_type": "subslide"
    }
   },
   "source": [
    "Obtengamos sólo el contorno de las figuras cuando $P_\\infty$ y $Q_\\infty$. Se hace esto, simplemente obteniendo los máximos."
   ]
  },
  {
   "cell_type": "code",
   "execution_count": 37,
   "metadata": {
    "collapsed": false,
    "slideshow": {
     "slide_type": "slide"
    }
   },
   "outputs": [
    {
     "data": {
      "text/plain": [
       "mapeo2D_max (generic function with 1 method)"
      ]
     },
     "execution_count": 37,
     "metadata": {},
     "output_type": "execute_result"
    }
   ],
   "source": [
    "function mapeo2D_max(F::Function , E2::Function, X_0, rrange::Range, tin::Int64,tout::Int64)\n",
    "    #variable para almacenar el resultado\n",
    "    Pres=Float64[]\n",
    "    Qres=Float64[]\n",
    "    Rres=Float64[]\n",
    "    \n",
    "    for r in rrange        \n",
    "        #Definición de los dos vectores.\n",
    "        vecP,vecQ=mapeo2D_lista(F, X_0, r, tin,tout)\n",
    "        \n",
    "        #maximos\n",
    "        maxP=maximum(vecP)-E2(r)[1]\n",
    "        maxQ=maximum(vecQ)-E2(r)[2]\n",
    "        \n",
    "        \n",
    "        if isnan(maxP) == false && isnan(maxQ) == false\n",
    "            push!(Rres,r)\n",
    "            push!(Pres,maxP)\n",
    "            push!(Qres,maxQ)\n",
    "        end\n",
    "    end\n",
    "    \n",
    "    Rres, Pres,Qres\n",
    "end"
   ]
  },
  {
   "cell_type": "markdown",
   "metadata": {
    "slideshow": {
     "slide_type": "subslide"
    }
   },
   "source": [
    "También, debemos restar la posición del punto de equilibrio, para poder ver que tanto osc"
   ]
  },
  {
   "cell_type": "code",
   "execution_count": 38,
   "metadata": {
    "collapsed": false,
    "slideshow": {
     "slide_type": "subslide"
    }
   },
   "outputs": [],
   "source": [
    "rrange2 = 0.0:2.0^-8:10.0\n",
    "pp2(r)=pE2([r,s,u,v])\n",
    "Rs3,Ps3,Qs3 = mapeo2D_max(F2 ,pp2, p2, rrange2, 20000,500);\n"
   ]
  },
  {
   "cell_type": "markdown",
   "metadata": {
    "slideshow": {
     "slide_type": "subslide"
    }
   },
   "source": [
    "Utilizamos un paquete para ajustar la curva."
   ]
  },
  {
   "cell_type": "code",
   "execution_count": 39,
   "metadata": {
    "collapsed": false,
    "slideshow": {
     "slide_type": "slide"
    }
   },
   "outputs": [
    {
     "ename": "LoadError",
     "evalue": "LoadError: UndefVarError: curve_fit not defined\nwhile loading In[39], in expression starting on line 6",
     "output_type": "error",
     "traceback": [
      "LoadError: UndefVarError: curve_fit not defined\nwhile loading In[39], in expression starting on line 6",
      ""
     ]
    }
   ],
   "source": [
    "#Ajuste propuesto, r es la variable, p es un arreglo de constantes.\n",
    "model(r, p) = p[1]*(r).^(-p[2]).+p[3]\n",
    "#arreglo con el peso de los valores, en este caso todos son igualmente pesados.\n",
    "w=ones(length(Rs3))\n",
    "#Ajuste del modelo.\n",
    "fitP = curve_fit(model, Rs3, Ps3,w)\n",
    "fitQ = curve_fit(model, Rs3, Qs3,w);"
   ]
  },
  {
   "cell_type": "markdown",
   "metadata": {
    "slideshow": {
     "slide_type": "subslide"
    }
   },
   "source": [
    "El modelo electo es $ P,Q = a(r+b)^{-c}+d$"
   ]
  },
  {
   "cell_type": "code",
   "execution_count": 40,
   "metadata": {
    "collapsed": false,
    "slideshow": {
     "slide_type": "subslide"
    }
   },
   "outputs": [
    {
     "ename": "LoadError",
     "evalue": "LoadError: UndefVarError: fitP not defined\nwhile loading In[40], in expression starting on line 1",
     "output_type": "error",
     "traceback": [
      "LoadError: UndefVarError: fitP not defined\nwhile loading In[40], in expression starting on line 1",
      ""
     ]
    }
   ],
   "source": [
    "fitP"
   ]
  },
  {
   "cell_type": "code",
   "execution_count": 41,
   "metadata": {
    "collapsed": false,
    "slideshow": {
     "slide_type": "subslide"
    }
   },
   "outputs": [],
   "source": [
    "P1=[0.0132109,0.523979,-0.00187789];"
   ]
  },
  {
   "cell_type": "markdown",
   "metadata": {
    "slideshow": {
     "slide_type": "subslide"
    }
   },
   "source": [
    "La curva para las presas está definida como $P_{contorno,\\infty}\\propto \\frac{1}{\\sqrt{r}}$"
   ]
  },
  {
   "cell_type": "code",
   "execution_count": 42,
   "metadata": {
    "collapsed": false,
    "slideshow": {
     "slide_type": "subslide"
    }
   },
   "outputs": [
    {
     "ename": "LoadError",
     "evalue": "LoadError: UndefVarError: fitQ not defined\nwhile loading In[42], in expression starting on line 1",
     "output_type": "error",
     "traceback": [
      "LoadError: UndefVarError: fitQ not defined\nwhile loading In[42], in expression starting on line 1",
      ""
     ]
    }
   ],
   "source": [
    "fitQ"
   ]
  },
  {
   "cell_type": "code",
   "execution_count": 43,
   "metadata": {
    "collapsed": false,
    "slideshow": {
     "slide_type": "subslide"
    }
   },
   "outputs": [],
   "source": [
    "Q1=[0.0330781,0.0423991,-0.0247437];"
   ]
  },
  {
   "cell_type": "code",
   "execution_count": 44,
   "metadata": {
    "collapsed": false,
    "slideshow": {
     "slide_type": "slide"
    }
   },
   "outputs": [
    {
     "ename": "LoadError",
     "evalue": "LoadError: UndefVarError: subplot not defined\nwhile loading In[44], in expression starting on line 1",
     "output_type": "error",
     "traceback": [
      "LoadError: UndefVarError: subplot not defined\nwhile loading In[44], in expression starting on line 1",
      ""
     ]
    }
   ],
   "source": [
    "subplot(211)\n",
    "PAs3=[model(r,P1) for r in Rs3]\n",
    "plot(Rs3,Ps3,\"r.\",label=(\"Valores max\"))\n",
    "plot(Rs3,PAs3,label=(\"Ajuste\"))\n",
    "xlabel(L\"r\")\n",
    "ylabel(L\"P_{\\infty}\")\n",
    "title(\"titulo\")\n",
    "legend()\n",
    "\n",
    "subplot(212)\n",
    "\n",
    "QAs3=[model(r,Q1) for r in Rs3]\n",
    "plot(Rs3,Qs3,\"r.\",label=(\"Valores max\"))\n",
    "plot(Rs3,QAs3,label=(\"Ajuste\"))\n",
    "xlabel(L\"r\")\n",
    "ylabel(L\"Q_{\\infty}\")\n",
    "title(\"titulo\")\n",
    "legend()"
   ]
  },
  {
   "cell_type": "markdown",
   "metadata": {
    "slideshow": {
     "slide_type": "subslide"
    }
   },
   "source": [
    "Naturalmente, si el valor de $v$ es ligeramente menor, se pierde este comportamiento, teniendo la convergencia de la bifurcación en un punto."
   ]
  },
  {
   "cell_type": "code",
   "execution_count": 45,
   "metadata": {
    "collapsed": false,
    "slideshow": {
     "slide_type": "subslide"
    }
   },
   "outputs": [
    {
     "ename": "LoadError",
     "evalue": "LoadError: MethodError: no method matching plot1(::#F2, ::#p2, ::FloatRange{Float64}, ::Int64, ::Int64, ::String)\nClosest candidates are:\n  plot1(::Function, ::Any, ::Range{T}, !Matched::Array{Float64,1}, !Matched::String) at In[21]:3\nwhile loading In[45], in expression starting on line 6",
     "output_type": "error",
     "traceback": [
      "LoadError: MethodError: no method matching plot1(::#F2, ::#p2, ::FloatRange{Float64}, ::Int64, ::Int64, ::String)\nClosest candidates are:\n  plot1(::Function, ::Any, ::Range{T}, !Matched::Array{Float64,1}, !Matched::String) at In[21]:3\nwhile loading In[45], in expression starting on line 6",
      ""
     ]
    }
   ],
   "source": [
    "s,u,K = 3.0,0.25,1.0\n",
    "v=1+u-0.01\n",
    "\n",
    "const2 = [r,s,u,v,K]\n",
    "rrange2 = 0.0:2.0^-8:2.0\n",
    "plot1(F2, p2, rrange2, 20000,500, \"Gráfico con v=1+u-0.01\");"
   ]
  },
  {
   "cell_type": "markdown",
   "metadata": {
    "slideshow": {
     "slide_type": "subslide"
    }
   },
   "source": [
    "## Valores cercanos a $v=\\frac{1}{2}(1+2u)$"
   ]
  },
  {
   "cell_type": "code",
   "execution_count": 46,
   "metadata": {
    "collapsed": false,
    "slideshow": {
     "slide_type": "slide"
    }
   },
   "outputs": [
    {
     "ename": "LoadError",
     "evalue": "LoadError: MethodError: no method matching plot1(::#F3, ::#p3, ::FloatRange{Float64}, ::Int64, ::Int64, ::String)\nClosest candidates are:\n  plot1(::Function, ::Any, ::Range{T}, !Matched::Array{Float64,1}, !Matched::String) at In[21]:3\nwhile loading In[46], in expression starting on line 6",
     "output_type": "error",
     "traceback": [
      "LoadError: MethodError: no method matching plot1(::#F3, ::#p3, ::FloatRange{Float64}, ::Int64, ::Int64, ::String)\nClosest candidates are:\n  plot1(::Function, ::Any, ::Range{T}, !Matched::Array{Float64,1}, !Matched::String) at In[21]:3\nwhile loading In[46], in expression starting on line 6",
      ""
     ]
    }
   ],
   "source": [
    "s,u,K = 3.0,0.25,1.0\n",
    "v=0.5(1+2u)\n",
    "p3(r)=pE2([r,s,u,v])-[0.0,0.06]\n",
    "F3(Xt,r)=CP_Simple(Xt,[r,s,u,v,K]);\n",
    "rrange3 = 0.0:2.0^-8:10.0\n",
    "plot1(F3, p3, rrange3, 20000,500, \"Gráfico con v=0.5*(1+2u)\");"
   ]
  },
  {
   "cell_type": "code",
   "execution_count": 47,
   "metadata": {
    "collapsed": false,
    "slideshow": {
     "slide_type": "slide"
    }
   },
   "outputs": [
    {
     "ename": "LoadError",
     "evalue": "LoadError: MethodError: no method matching plot1(::#F3, ::#p3, ::FloatRange{Float64}, ::Int64, ::Int64, ::String)\nClosest candidates are:\n  plot1(::Function, ::Any, ::Range{T}, !Matched::Array{Float64,1}, !Matched::String) at In[21]:3\nwhile loading In[47], in expression starting on line 2",
     "output_type": "error",
     "traceback": [
      "LoadError: MethodError: no method matching plot1(::#F3, ::#p3, ::FloatRange{Float64}, ::Int64, ::Int64, ::String)\nClosest candidates are:\n  plot1(::Function, ::Any, ::Range{T}, !Matched::Array{Float64,1}, !Matched::String) at In[21]:3\nwhile loading In[47], in expression starting on line 2",
      ""
     ]
    }
   ],
   "source": [
    "rrange3 = 7.9:2.0^-10:9.0\n",
    "R3,P3,Q3=plot1(F3, p3, rrange3, 20000,500, \"Gráfico con v=0.5*(1+2u)\");"
   ]
  },
  {
   "cell_type": "code",
   "execution_count": 48,
   "metadata": {
    "collapsed": false,
    "slideshow": {
     "slide_type": "slide"
    }
   },
   "outputs": [
    {
     "ename": "LoadError",
     "evalue": "LoadError: UndefVarError: plot3D not defined\nwhile loading In[48], in expression starting on line 1",
     "output_type": "error",
     "traceback": [
      "LoadError: UndefVarError: plot3D not defined\nwhile loading In[48], in expression starting on line 1",
      ""
     ]
    }
   ],
   "source": [
    "plot3D(R3,P3,Q3,\"b,\")\n",
    "xlabel(L\"r\")\n",
    "ylabel(L\"P_\\infty\")\n",
    "zlabel(L\"Q_\\infty\")\n",
    "title(\"Zona de bifurcaciones en el espacio\")"
   ]
  },
  {
   "cell_type": "markdown",
   "metadata": {
    "slideshow": {
     "slide_type": "subslide"
    }
   },
   "source": [
    "Se tiene un nuevo gráfico, con bifurcaciones de doblamiento de periódo torcidas."
   ]
  },
  {
   "cell_type": "code",
   "execution_count": 49,
   "metadata": {
    "collapsed": false,
    "slideshow": {
     "slide_type": "slide"
    }
   },
   "outputs": [
    {
     "ename": "LoadError",
     "evalue": "LoadError: UndefVarError: plot2 not defined\nwhile loading In[49], in expression starting on line 3",
     "output_type": "error",
     "traceback": [
      "LoadError: UndefVarError: plot2 not defined\nwhile loading In[49], in expression starting on line 3",
      ""
     ]
    }
   ],
   "source": [
    "r = 8.4\n",
    "X0 =  p3(r)\n",
    "plot2(F3, X0, r, 20000,500, \"Diagrama de fase con r=$r y v=0.5(1+2u), para los primeros n=10000\",\"b\");"
   ]
  },
  {
   "cell_type": "markdown",
   "metadata": {
    "slideshow": {
     "slide_type": "subslide"
    }
   },
   "source": [
    "Aunque el comportamiento es el mismo que el que ya se describió, en el otro caso de bifurcaciones de doblamiento de periodo."
   ]
  },
  {
   "cell_type": "code",
   "execution_count": 50,
   "metadata": {
    "collapsed": false
   },
   "outputs": [
    {
     "ename": "LoadError",
     "evalue": "LoadError: ArgumentError: Module Gadfly not found in current path.\nRun `Pkg.add(\"Gadfly\")` to install the Gadfly package.\nwhile loading In[50], in expression starting on line 10",
     "output_type": "error",
     "traceback": [
      "LoadError: ArgumentError: Module Gadfly not found in current path.\nRun `Pkg.add(\"Gadfly\")` to install the Gadfly package.\nwhile loading In[50], in expression starting on line 10",
      "",
      " in require(::Symbol) at ./loading.jl:365",
      " in require(::Symbol) at /Applications/Julia-0.5.app/Contents/Resources/julia/lib/julia/sys.dylib:?"
     ]
    }
   ],
   "source": [
    "#Pkg.add(\"PyPlot\");\n",
    "#Pkg.add(\"Combinatorics\");\n",
    "#Pkg.add(\"StatsBase\");\n",
    "#Pkg.add(\"DataFrames\")\n",
    "#Pkg.add(\"Gadfly\")\n",
    "#Pkg.add(\"Plots\");\n",
    "#Pkg.update();\n",
    "\n",
    "# Todas las funciones grandes dentro de este programa tienen buenos docs. No los dejes solos...\n",
    "using PyPlot, Gadfly, StatsBase, Combinatorics,Plots;"
   ]
  },
  {
   "cell_type": "markdown",
   "metadata": {
    "collapsed": true,
    "slideshow": {
     "slide_type": "slide"
    }
   },
   "source": [
    "### Iniciando el campo de juego\n",
    "Simulación de un mundo discreto de depredador - presa discreto"
   ]
  },
  {
   "cell_type": "code",
   "execution_count": 51,
   "metadata": {
    "collapsed": false,
    "slideshow": {
     "slide_type": "slide"
    }
   },
   "outputs": [
    {
     "ename": "LoadError",
     "evalue": "LoadError: UndefVarError: sample not defined\nwhile loading In[51], in expression starting on line 21",
     "output_type": "error",
     "traceback": [
      "LoadError: UndefVarError: sample not defined\nwhile loading In[51], in expression starting on line 21",
      ""
     ]
    }
   ],
   "source": [
    "#0.1 Iniciar constantes y arreglos\n",
    "\n",
    "const NGridSize = 12 :: Int        #Tamaño de Matriz\n",
    "const TotalTurns = 100 :: Int #Turnos de tiempo global\n",
    "\n",
    "const α = .5                       #Coeficiente de clon de presa\n",
    "\n",
    "const β = .5                       #Coeficiente de clon de depredador\n",
    "const ϵ_inicial = -3 :: Int               #Energia inicial para cada clon de depredador\n",
    "const Δϵ = 1 :: Int                #Perdida de energia por paso de tiempo\n",
    "\n",
    "const γ = .1                       #Porcentaje a hacer update en cada turno\n",
    "const ρ_1 = .333                   #Densidad de presas\n",
    "const ρ_2 = .333                   #Densidad de depredadores\n",
    "\n",
    "#0.2 Construir matriz\n",
    "const items = [-3,-2,-1,0,1]\n",
    "const weights = [ρ_1 /3, ρ_1 /3, ρ_1 /3, 1-ρ_1-ρ_2, ρ_2]\n",
    "\n",
    "# Chulada 1 con paquete StatsBase\n",
    "Grid = reshape(sample(items,WeightVec(weights),NGridSize^2, replace=true)  ,NGridSize,NGridSize) ::Array{Int,2}"
   ]
  },
  {
   "cell_type": "code",
   "execution_count": 52,
   "metadata": {
    "collapsed": false,
    "slideshow": {
     "slide_type": "slide"
    }
   },
   "outputs": [
    {
     "ename": "LoadError",
     "evalue": "LoadError: syntax: extra token \"considerar\" after end of expression\nwhile loading In[52], in expression starting on line 3",
     "output_type": "error",
     "traceback": [
      "LoadError: syntax: extra token \"considerar\" after end of expression\nwhile loading In[52], in expression starting on line 3",
      ""
     ]
    }
   ],
   "source": [
    "### Reglas de comportamiento\n",
    "\n",
    "A considerar:\n",
    "\n",
    "Si es presa\n",
    "1. Si se puede mover\n",
    "2. Si se clona\n",
    "\n",
    "Si es depredador\n",
    "1. Si puede mover\n",
    "2. Si come\n",
    "3. Si se clona\n",
    "\n",
    "Consideraciones \"amables\":\n",
    "- Fronteras toroidales\n",
    "- Vecinos a distancia 1\n",
    "- ¿Si puede comer el lobo, come?\n",
    "- ¿Quién juega primero?"
   ]
  },
  {
   "cell_type": "code",
   "execution_count": 53,
   "metadata": {
    "collapsed": false,
    "slideshow": {
     "slide_type": "slide"
    }
   },
   "outputs": [
    {
     "data": {
      "text/plain": [
       "check_mover_depredador"
      ]
     },
     "execution_count": 53,
     "metadata": {},
     "output_type": "execute_result"
    }
   ],
   "source": [
    "\"\"\"\n",
    "check_vecinos_vacios(Row::Int,Col::Int)\n",
    "\n",
    "Esta función revisa si en un vecindario de las 8 casillas adyacentes a una entrada en la matriz de Grid\n",
    "existe al menos un solo vecino vacío. El código toma en cuenta los casos donde la frontera es toroidal.\n",
    "Ejemplo:\n",
    "```julia\n",
    "julia> a=eye[2,2]\n",
    "julia> check_vecinos_vacios(1,1)\n",
    "1\n",
    "julia> check_vecinos_vacios(1,2)\n",
    "0\n",
    "\"\"\"\n",
    "function check_vecinos_vacios(Row::Int,Col::Int,Grid::Array{Int,2},NGridSize::Int)\n",
    "    YSouth = mod(Row,NGridSize)+1\n",
    "    XWest = mod(Col,  NGridSize) +1\n",
    "    XEast = mod(Col-2,  NGridSize) +1\n",
    "    YNorth = mod(Row-2, NGridSize) +1\n",
    "    \n",
    "    if Grid[YNorth, Col]== 0 ||Grid[Row, XEast]==0 ||\n",
    "    Grid[Row, XWest]==0 || Grid[YSouth, Col]==0 ||\n",
    "    Grid[YNorth,XEast]==0 || Grid[YNorth,XWest]==0 ||\n",
    "    Grid[YSouth,XEast]==0 || Grid[YSouth,XWest]== 0\n",
    "        return 1\n",
    "    \n",
    "    else return 0\n",
    "    end\n",
    "end\n",
    "\n",
    "\"\"\"\n",
    "check_comer_depredador(Row::Int,Col::Int,Grid::Array{Int,2})\n",
    "\n",
    "Esta función revisa si en un vecindario de las 8 casillas aledañas a la entrada (Row,Col) existe al menos\n",
    "una presa, y regresa un 1 en dado caso, 0 c.o.c. El código toma en cuenta el caso donde la frontera es toroidal.\n",
    "julia> a=eye[2,2]\n",
    "julia> check_comer_depredador(1,1)\n",
    "1\n",
    "julia> b = zeros[2,2]\n",
    "julia> check_comer_depredador[1,1]\n",
    "0\n",
    "\"\"\"\n",
    "function check_comer_depredador(Row::Int,Col::Int,Grid::Array{Int,2},NGridSize::Int)\n",
    "    \n",
    "    if Grid[Row,Col] == 0 || Grid[Row,Col] == 1\n",
    "        return 0\n",
    "    end\n",
    "    \n",
    "    \n",
    "    YSouth = mod(Row,NGridSize)+1\n",
    "    XWest = mod(Col,  NGridSize) +1\n",
    "    XEast = mod(Col-2,  NGridSize) +1\n",
    "    YNorth = mod(Row-2, NGridSize) +1\n",
    "    \n",
    "    if Grid[YNorth, Col] > 0 || Grid[Row, XEast] > 0 || Grid[Row, XWest] > 0 ||  Grid[YSouth,Col] > 0 || Grid[YNorth,XEast] > 0 || Grid[YNorth,XWest] > 0 || Grid[YSouth,XEast] > 0 ||  Grid[YSouth,XWest] > 0\n",
    "        return 1\n",
    "    else return 0\n",
    "    end\n",
    "end\n",
    "\n",
    "\"\"\"\n",
    "check_mover_depredador(Row::Int,Col::Int,Grid::Array{Int,2})\n",
    "\n",
    "Esta función revisa si en un vecindario de las 8 casillas aledañas a la entrada (Row,Col) existe al menos\n",
    "un movimiento posible para el depredador, y regresa un 1 en dado caso, 0 c.o.c. El código toma en cuenta el caso donde la frontera es toroidal.\n",
    "julia> a=eye[2,2]\n",
    "julia> check_mover_depredador(1,1)\n",
    "1\n",
    "julia> b = zeros[2,2]\n",
    "julia> check_comer_depredador[1,1]\n",
    "0\n",
    "\"\"\"\n",
    "function check_mover_depredador(Row::Int,Col::Int,Grid::Array{Int,2},NGridSize::Int)\n",
    "    YSouth = mod(Row,NGridSize)+1\n",
    "    XWest = mod(Col,  NGridSize) +1\n",
    "    XEast = mod(Col-2,  NGridSize) +1\n",
    "    YNorth = mod(Row-2, NGridSize) +1\n",
    "    \n",
    "    if Grid[Row,Col] != 0 || Grid[YNorth, Col] >= 0 || Grid[Row, XEast] >= 0 || Grid[Row, XWest] >= 0 ||  Grid[YSouth,Col] >= 0 || Grid[YNorth,XEast] >= 0 || Grid[YNorth,XWest] >= 0 || Grid[YSouth,XEast] >= 0 || Grid[YSouth,XWest] >= 0\n",
    "        return 1\n",
    "    else return 0\n",
    "        \n",
    "    end\n",
    "end"
   ]
  },
  {
   "cell_type": "markdown",
   "metadata": {
    "slideshow": {
     "slide_type": "slide"
    }
   },
   "source": [
    "\n",
    "### Consideraciones \"amables\":\n",
    "- Fronteras toroidales \n",
    "    - yup\n",
    "- Vecinos a distancia 1 \n",
    "    - yup\n",
    "- ¿Si puede comer el lobo, come?\n",
    "    - yup\n",
    "- ¿Quién juega primero?\n",
    "    - presa\n",
    "- ¿Energía de clon de depredador es independiente a si come?\n",
    "    - yup\n",
    "- ¿Tope de energía para depredador?\n",
    "    - yup\n",
    "- ¿Cuál es la distribución inicial de energía para los lobos?\n",
    "    - Uniforme, desde la inicial"
   ]
  },
  {
   "cell_type": "code",
   "execution_count": 54,
   "metadata": {
    "collapsed": false,
    "slideshow": {
     "slide_type": "slide"
    }
   },
   "outputs": [
    {
     "data": {
      "text/plain": [
       "moviendo_depredador"
      ]
     },
     "execution_count": 54,
     "metadata": {},
     "output_type": "execute_result"
    }
   ],
   "source": [
    "#Movimiento de presas\n",
    "\n",
    "\"\"\"\n",
    "moviendo_presa(Row::Int,Col::Int,Grid::Array{Int,2},NGridSize::Int,α::Float64)\n",
    "\n",
    "Esta función establece el comportamiento de la presa.Si una\n",
    "presa en (Row,Col) puede moverse a una casilla aledaña, lo haráy si\n",
    "se clona con probabilidad α.\n",
    "\n",
    "\"\"\"\n",
    "\n",
    "function moviendo_presa(Row::Int,Col::Int,Grid::Array{Int,2},NGridSize::Int,α::Float64)\n",
    "    #Sanity check\n",
    "    if Grid[Row,Col] <= 0\n",
    "        return 0 \n",
    "    end\n",
    "    \n",
    "    if check_vecinos_vacios(Row,Col,Grid,NGridSize) == 1\n",
    "        \n",
    "        #Coeficiente de clonado - a veces deja una Dolly en su lugar...\n",
    "        rand() < α ? clon = 1 : clon = 0\n",
    "        \n",
    "        #Chulada 2 - Fronteras toroidales en cuadrícula. \n",
    "        #Considerar usar la función mod1()\n",
    "        #Con estas defs podemos revisar valores de vecinos.\n",
    "        YSouth = mod(Row,NGridSize)+1\n",
    "        XWest = mod(Col,  NGridSize) +1\n",
    "        XEast = mod(Col-2,  NGridSize) +1\n",
    "        YNorth = mod(Row-2, NGridSize) +1\n",
    "        \n",
    "        #Gran ciclo para intentar moverse a una casilla no ocupada.\n",
    "        for i in 1:50\n",
    "        \n",
    "        #Oh...\n",
    "        behave = rand(1:1:8)\n",
    "            \n",
    "        #Checando que nuestros vecinos sean movidas permitidas\n",
    "        if behave == 1 && Grid[YNorth,XWest] == 0\n",
    "            Grid[YNorth,XWest] = 1\n",
    "            Grid[Row,Col] = clon\n",
    "                break\n",
    "        elseif behave == 2 && Grid[YNorth,Col] == 0\n",
    "            Grid[YNorth,Col] = 1\n",
    "            Grid[Row,Col] = clon\n",
    "                break\n",
    "        elseif behave == 3 && Grid[YNorth,XEast] == 0\n",
    "            Grid[YNorth,XEast] = 1 \n",
    "            Grid[Row,Col] = clon\n",
    "                break\n",
    "        elseif behave == 4 && Grid[Row,XWest] == 0\n",
    "            Grid[Row,XWest] = 1\n",
    "            Grid[Row,Col] = clon\n",
    "                break\n",
    "        elseif behave == 5 && Grid[Row,XEast] == 0\n",
    "            Grid[Row,XEast] = 1\n",
    "            Grid[Row,Col] = clon\n",
    "                break\n",
    "        elseif behave == 6 && Grid[YSouth,XWest] == 0\n",
    "            Grid[YSouth,XWest] = 1\n",
    "            Grid[Row,Col] = clon\n",
    "                break\n",
    "        elseif behave == 7 && Grid[YSouth,Col] == 0\n",
    "            Grid[YSouth,Col] = 1\n",
    "            Grid[Row,Col] = clon\n",
    "                break\n",
    "        elseif behave == 8 && Grid[YSouth,XEast] == 0\n",
    "            Grid[YSouth,XEast] = clon\n",
    "            Grid[Row,Col] = clon\n",
    "                break\n",
    "        \n",
    "            end\n",
    "        end\n",
    "    end\n",
    "end\n",
    "\n",
    "            \n",
    "\"\"\"\n",
    "moviendo_depredador(Row::Int,Col::Int,Grid::Array{Int,2},NGridSize::Int,β::Float64)\n",
    "\n",
    "Establece reglas de comportamiento para el depredador en (Row,Col). Si puede comer a una presa\n",
    "aledaña, preferirá comer y moverse a sólo moverse. Se puede reproducir con\n",
    "probabilidad β.\n",
    "\"\"\"\n",
    "\n",
    "#Movimiento de depredadores\n",
    "function moviendo_depredador(Row::Int,Col::Int,Grid::Array{Int,2},NGridSize::Int,β::Float64)\n",
    "    \n",
    "    #Sanity check\n",
    "    if Grid[Row,Col] >= 0\n",
    "        return 0\n",
    "    end\n",
    "    \n",
    "    puede_moverse = 0\n",
    "    puede_comer = 0\n",
    "    \n",
    "    #Verificamos que se puedan mover\n",
    "    puede_moverse = check_mover_depredador(Row,Col,Grid,NGridSize)\n",
    "    puede_comer   = check_comer_depredador(Row,Col,Grid,NGridSize)\n",
    "    \n",
    "    prioridad = puede_moverse + puede_comer\n",
    "        \n",
    "    #Asignamos condicional a la ϵ_depredador si puede comer. Esta es la ϵ que se queda el\n",
    "    # \"original\", per se. \n",
    "    if puede_comer == 1\n",
    "        Grid[Row,Col] = ϵ_inicial\n",
    "        else \n",
    "        Grid[Row,Col] = Grid[Row,Col] + Δϵ\n",
    "    end\n",
    "    \n",
    "    #Starvation check\n",
    "    if Grid[Row,Col] >= 0 \n",
    "        return 0\n",
    "    end\n",
    "    \n",
    "    ϵ_depredador = Grid[Row,Col]\n",
    "    clon = 0::Int\n",
    "    \n",
    "    if check_mover_depredador(Row,Col,Grid,NGridSize) == 1\n",
    "        \n",
    "        #Coeficiente de clonado\n",
    "        rand() < β ? clon = ϵ_inicial : clon = 0\n",
    "        \n",
    "        #Otra vez definimos a las casillas vecinas en fronteras toroidales\n",
    "        YSouth = mod(Row,NGridSize)+1\n",
    "        XEast = mod(Col,  NGridSize) +1\n",
    "        XWest = mod(Col-2,  NGridSize) +1\n",
    "        YNorth = mod(Row-2, NGridSize) +1\n",
    "                \n",
    "        #Con puro colmillo no ponemos un while por si las dudas...\n",
    "        for i in 1:50\n",
    "        \n",
    "        behave = rand(1:1:8)\n",
    "            \n",
    "            # Chulada 3 - La segunda condicional impera que si puede comer y moverse, debe comer cuando se mueve.\n",
    "            # ¿Ves cómo?\n",
    "            if behave == 1 && Grid[YNorth,XWest] == puede_comer\n",
    "                    Grid[YNorth,XWest] = ϵ_depredador\n",
    "                    Grid[Row,Col] = clon    \n",
    "                    break\n",
    "                elseif behave == 2 && Grid[YNorth,Col] == puede_comer\n",
    "                    Grid[YNorth,Col] = ϵ_depredador\n",
    "                    Grid[Row,Col] = clon\n",
    "                    break\n",
    "                elseif behave == 3 && Grid[YNorth,XEast] == puede_comer\n",
    "                    Grid[YNorth,XEast] = ϵ_depredador \n",
    "                    Grid[Row,Col] = clon\n",
    "                    break\n",
    "                elseif behave == 4 && Grid[Row,XWest] == puede_comer\n",
    "                    Grid[Row,XWest] = ϵ_depredador\n",
    "                    Grid[Row,Col] = clon\n",
    "                    break\n",
    "                elseif behave == 5 && Grid[Row,XEast] == puede_comer\n",
    "                    Grid[Row,XEast] = ϵ_depredador\n",
    "                    Grid[Row,Col] = clon\n",
    "                    break\n",
    "                elseif behave == 6 && Grid[YSouth,XWest] == puede_comer\n",
    "                    Grid[YSouth,XWest] = ϵ_depredador\n",
    "                    Grid[Row,Col] = clon\n",
    "                    break\n",
    "                elseif behave == 7 && Grid[YSouth,Col] == puede_comer\n",
    "                    Grid[YSouth,Col] = ϵ_depredador\n",
    "                    Grid[Row,Col] = clon\n",
    "                    break\n",
    "                elseif behave == 8 && Grid[YSouth,XEast] == puede_comer\n",
    "                    Grid[YSouth,XEast] = ϵ_depredador \n",
    "                    Grid[Row,Col] = clon\n",
    "                    break\n",
    "            \n",
    "            end\n",
    "        end\n",
    "    end\n",
    "end\n",
    "\n",
    " "
   ]
  },
  {
   "cell_type": "code",
   "execution_count": 55,
   "metadata": {
    "collapsed": true,
    "slideshow": {
     "slide_type": "slide"
    }
   },
   "outputs": [],
   "source": [
    "### ¿Pifa?"
   ]
  },
  {
   "cell_type": "code",
   "execution_count": 56,
   "metadata": {
    "collapsed": false,
    "slideshow": {
     "slide_type": "fragment"
    }
   },
   "outputs": [
    {
     "name": "stderr",
     "output_type": "stream",
     "text": [
      "WARNING: redefining constant NGridSize\n"
     ]
    },
    {
     "data": {
      "text/plain": [
       "5×5 Array{Int64,2}:\n",
       " 1   0  0  0  0\n",
       " 0  -3  0  0  0\n",
       " 0   0  1  0  0\n",
       " 0   0  0  1  0\n",
       " 0   0  0  0  1"
      ]
     },
     "execution_count": 56,
     "metadata": {},
     "output_type": "execute_result"
    }
   ],
   "source": [
    "NGridSize = 5;Grid = eye(Int,5,5); Grid[2,2] = -3; Grid"
   ]
  },
  {
   "cell_type": "code",
   "execution_count": 57,
   "metadata": {
    "collapsed": false,
    "slideshow": {
     "slide_type": "fragment"
    }
   },
   "outputs": [
    {
     "data": {
      "text/plain": [
       "5×5 Array{Int64,2}:\n",
       " 1   0  0  0  0\n",
       " 0  -3  0  0  0\n",
       " 0   0  1  1  0\n",
       " 0   0  0  1  0\n",
       " 0   0  0  0  1"
      ]
     },
     "execution_count": 57,
     "metadata": {},
     "output_type": "execute_result"
    }
   ],
   "source": [
    "moviendo_presa(4,4,Grid,NGridSize,.9)\n",
    "Grid"
   ]
  },
  {
   "cell_type": "code",
   "execution_count": 58,
   "metadata": {
    "collapsed": false,
    "slideshow": {
     "slide_type": "fragment"
    }
   },
   "outputs": [
    {
     "data": {
      "text/plain": [
       "5×5 Array{Int64,2}:\n",
       " -3  0  0  0  0\n",
       "  0  0  0  0  0\n",
       "  0  0  1  1  0\n",
       "  0  0  0  1  0\n",
       "  0  0  0  0  1"
      ]
     },
     "execution_count": 58,
     "metadata": {},
     "output_type": "execute_result"
    }
   ],
   "source": [
    "ϵ_inicial = -3\n",
    "Δϵ = 1\n",
    "\n",
    "moviendo_depredador(2,2,Grid,NGridSize, 0.)\n",
    "Grid"
   ]
  },
  {
   "cell_type": "markdown",
   "metadata": {
    "slideshow": {
     "slide_type": "slide"
    }
   },
   "source": [
    "### The Big Loop!"
   ]
  },
  {
   "cell_type": "code",
   "execution_count": 59,
   "metadata": {
    "collapsed": false,
    "slideshow": {
     "slide_type": "slide"
    }
   },
   "outputs": [
    {
     "data": {
      "text/plain": [
       "BigLoop"
      ]
     },
     "execution_count": 59,
     "metadata": {},
     "output_type": "execute_result"
    }
   ],
   "source": [
    "#Super Gran Loop\n",
    "\n",
    "\"\"\"\n",
    "BigLoop(NGridSize::Int64, α::Float64, β::Float64, ϵ_inicial::Int64, Δϵ::Int64, γ::Float64, ρ_1::Float64, ρ_2::Float64, TurnTimer::Int64)\n",
    "\n",
    "Esta función toma una familia de parámetros para simular un microcosmos de depredadores y presas en una matriz con\n",
    "fronteras toroidales. Regresa los arreglos Presas, Depredadores, Turnos, Grid para poder graficarlos.\n",
    "Primero define sus arreglos y coordenadas, empieza contadores, y luego en un gran loop de iteración evoluciona\n",
    "los agentes de cambio con mover_depredador() y mover_presa(), para despues contar a los sobrevivientes y push! a arreglos.\n",
    "\n",
    "\"\"\"\n",
    "function BigLoop(\n",
    "    \n",
    "    NGridSize::Int,\n",
    "    α::Float64,\n",
    "    β::Float64,\n",
    "    ϵ_inicial :: Int,\n",
    "    Δϵ :: Int,\n",
    "    γ :: Float64,\n",
    "    ρ_1 :: Float64,\n",
    "    ρ_2 :: Float64, \n",
    "    TurnTimer::Int,)\n",
    "    #######################\n",
    "    \n",
    "    #Iniciar Matriz\n",
    "    Espacio_Coordenadas = [(x,y) for x=1:NGridSize, y=1:NGridSize]\n",
    "    items_0 = [-3,-2,-1,0,1]\n",
    "    weights_0 = [ρ_1 /3, ρ_1 /3, ρ_1 /3, 1-ρ_1-ρ_2, ρ_2]\n",
    "    Grid = reshape(sample(items_0,WeightVec(weights_0),NGridSize^2, replace=true),NGridSize,NGridSize) ::Array{Int,2}\n",
    "    \n",
    "    # Iniciar contadores y randomseed (para que sea replicable los resultados)\n",
    "    srand(1234)\n",
    "    iter=enumerate(Grid)\n",
    "    Presas = [0]\n",
    "    Depredadores = [0]\n",
    "    Turnos = [0]\n",
    "    \n",
    "    #Chulada 4 del paquete de Combinatorics\n",
    "    presas_vivas = count(iter->(iter>0), Grid)\n",
    "    depredadores_vivos = count(iter->(iter<0), Grid)\n",
    "    \n",
    "    #Listos para pushear y graficar...\n",
    "    push!(Presas,presas_vivas)\n",
    "    push!(Depredadores, depredadores_vivos)\n",
    "    \n",
    "    #Variable auxiliar para recorrer sampleo\n",
    "    tope = convert(Int,round(γ*NGridSize^2))   \n",
    "    turn_counter = 0\n",
    "    #The Big Loop-de-Loop!\n",
    "    \n",
    "    \n",
    "    @inbounds for time_step in 1:TurnTimer\n",
    "\n",
    "\n",
    "        #Ojo, esto se alenta en matrices esparsas...por...?\n",
    "        aux = sample(Espacio_Coordenadas,tope;replace=false) :: Array{Tuple{Int64,Int64},1}\n",
    "       \n",
    "        #Chulada 5 con reinterpret y vector - Como convertir tuplas en arreglos\n",
    "        sampleo = vec(reinterpret(Int, aux, (1,tope*2)))\n",
    "        turn_counter += 1\n",
    "        \n",
    "        @inbounds for i in 1:tope*2-1\n",
    "\n",
    "            Row,Col = sampleo[i], sampleo[i+1]\n",
    "\n",
    "            # Who moves first? :D\n",
    "            # Si las entradas no son una casilla vacía, entonces la registramos en todos nuestros\n",
    "            # Arreglos, si no, simplemente se lo salta\n",
    "            if Grid[Row,Col] != 0 \n",
    "                #Movemos a las presas o depredadores\n",
    "                moviendo_presa(Row,Col,Grid,NGridSize,α)\n",
    "                moviendo_depredador(Row,Col,Grid,NGridSize,β)\n",
    "\n",
    "            end\n",
    "        end\n",
    "                #Contamos a los vivos                \n",
    "                presas_vivas = count(iter->(iter>0), Grid)\n",
    "                depredadores_vivos = count(iter->(iter<0), Grid)\n",
    "                #Guardamos cuantos vivos hay\n",
    "                push!(Presas,presas_vivas)\n",
    "                push!(Depredadores, depredadores_vivos)\n",
    "                #Guardamos el turno\n",
    "                push!(Turnos, turn_counter)\n",
    "    end\n",
    "    \n",
    "    print(\"\\n Simulation complete! \\n!\")\n",
    "    return Presas,Depredadores,Turnos, Grid\n",
    "    \n",
    "end\n",
    "    \n",
    "    \n",
    "    "
   ]
  },
  {
   "cell_type": "markdown",
   "metadata": {
    "slideshow": {
     "slide_type": "slide"
    }
   },
   "source": [
    "### Simulando...\n",
    "\n"
   ]
  },
  {
   "cell_type": "code",
   "execution_count": 60,
   "metadata": {
    "collapsed": false,
    "slideshow": {
     "slide_type": "slide"
    }
   },
   "outputs": [
    {
     "name": "stderr",
     "output_type": "stream",
     "text": [
      "WARNING: redefining constant NGridSize\n",
      "WARNING: redefining constant α\n",
      "WARNING: redefining constant β\n",
      "WARNING: redefining constant γ\n"
     ]
    },
    {
     "ename": "LoadError",
     "evalue": "LoadError: UndefVarError: sample not defined\nwhile loading In[60], in expression starting on line 17",
     "output_type": "error",
     "traceback": [
      "LoadError: UndefVarError: sample not defined\nwhile loading In[60], in expression starting on line 17",
      "",
      " in BigLoop(::Int64, ::Float64, ::Float64, ::Int64, ::Int64, ::Float64, ::Float64, ::Float64, ::Int64) at ./In[59]:29"
     ]
    }
   ],
   "source": [
    "const NGridSize = 12 :: Int        #Tamaño de Matriz\n",
    "const TurnTimer = 100 :: Int       #Turnos de tiempo global\n",
    "\n",
    "const α = .7                       #Coeficiente de clon de presa\n",
    "\n",
    "const β = .3                       #Coeficiente de clon de depredador\n",
    "const ϵ_inicial = -3::Int              #Energia inicial para cada clon de depredador\n",
    "const Δϵ = 1 :: Int                #Perdida de energia por paso de tiempo\n",
    "\n",
    "const γ = .2                       #Porcentaje a hacer update en cada turno\n",
    "const ρ_1 = .333                   #Densidad de presas\n",
    "const ρ_2 = .333                   #Densidad de depredadores\n",
    "\n",
    "#######################################\n",
    "\n",
    "\n",
    "Presas, Depredadores, Turnos,Result_Grid = BigLoop(NGridSize,α,β,ϵ_inicial,Δϵ,γ,ρ_1,ρ_2,TurnTimer)\n",
    "presas = Presas[end]; depredadores = Depredadores[end]; turno = Turnos[end]\n",
    "\n",
    "im = imshow(Result_Grid)\n",
    "title(\"Población de presas y depredadores en un mundo toroidal\")\n",
    "################"
   ]
  },
  {
   "cell_type": "code",
   "execution_count": 61,
   "metadata": {
    "collapsed": false,
    "slideshow": {
     "slide_type": "-"
    }
   },
   "outputs": [
    {
     "ename": "LoadError",
     "evalue": "LoadError: UndefVarError: Plots not defined\nwhile loading In[61], in expression starting on line 1",
     "output_type": "error",
     "traceback": [
      "LoadError: UndefVarError: Plots not defined\nwhile loading In[61], in expression starting on line 1",
      ""
     ]
    }
   ],
   "source": [
    "p = Plots.plot([Presas,Depredadores],zeros(0),leg=true)\n",
    "title!(\"Población de Presas y Depredadores vs Turnos\")\n",
    "yaxis!(\"N de presas y depredadores\",0:TurnTimer/10:TurnTimer)\n",
    "xaxis!(\"N de turnos\", 0:1:TurnTimer)\n",
    "\n",
    "anim = Animation()\n",
    "@gif for x in 1:1:TurnTimer\n",
    "    push!(p,x,Int[Presas[x],Depredadores[x]])\n",
    "    frame(anim)\n",
    "end"
   ]
  },
  {
   "cell_type": "code",
   "execution_count": 62,
   "metadata": {
    "collapsed": false,
    "slideshow": {
     "slide_type": "slide"
    }
   },
   "outputs": [
    {
     "name": "stderr",
     "output_type": "stream",
     "text": [
      "WARNING: redefining constant α\n",
      "WARNING: redefining constant β\n"
     ]
    },
    {
     "ename": "LoadError",
     "evalue": "LoadError: UndefVarError: sample not defined\nwhile loading In[62], in expression starting on line 16",
     "output_type": "error",
     "traceback": [
      "LoadError: UndefVarError: sample not defined\nwhile loading In[62], in expression starting on line 16",
      "",
      " in BigLoop(::Int64, ::Float64, ::Float64, ::Int64, ::Int64, ::Float64, ::Float64, ::Float64, ::Int64) at ./In[59]:29"
     ]
    }
   ],
   "source": [
    "const NGridSize = 12 :: Int        #Tamaño de Matriz\n",
    "const TurnTimer = 100 :: Int       #Turnos de tiempo global\n",
    "\n",
    "const α = .8                       #Coeficiente de clon de presa\n",
    "\n",
    "const β = .05                       #Coeficiente de clon de depredador\n",
    "const ϵ_inicial = -3::Int              #Energia inicial para cada clon de depredador\n",
    "const Δϵ = 1 :: Int                #Perdida de energia por paso de tiempo\n",
    "\n",
    "const γ = .2                       #Porcentaje a hacer update en cada turno\n",
    "const ρ_1 = .333                   #Densidad de presas\n",
    "const ρ_2 = .333                   #Densidad de depredadores\n",
    "#######################################\n",
    "\n",
    "\n",
    "Presas, Depredadores, Turnos,Result_Grid = BigLoop(NGridSize,α,β,ϵ_inicial,Δϵ,γ,ρ_1,ρ_2,TurnTimer)\n",
    "presas = Presas[end]; depredadores = Depredadores[end]; turno = Turnos[end]\n",
    "\n",
    "im = imshow(Result_Grid)\n",
    "title(\"Población de presas y depredadores en un mundo toroidal\")\n",
    "################"
   ]
  },
  {
   "cell_type": "code",
   "execution_count": 63,
   "metadata": {
    "collapsed": false,
    "slideshow": {
     "slide_type": "-"
    }
   },
   "outputs": [
    {
     "ename": "LoadError",
     "evalue": "LoadError: UndefVarError: Plots not defined\nwhile loading In[63], in expression starting on line 1",
     "output_type": "error",
     "traceback": [
      "LoadError: UndefVarError: Plots not defined\nwhile loading In[63], in expression starting on line 1",
      ""
     ]
    }
   ],
   "source": [
    "p = Plots.plot([Presas,Depredadores],zeros(0),leg=true)\n",
    "title!(\"Población de Presas y Depredadores vs Turnos\")\n",
    "yaxis!(\"N de presas y depredadores\",0:TurnTimer/10:TurnTimer)\n",
    "xaxis!(\"N de turnos\", 0:1:TurnTimer)\n",
    "\n",
    "anim = Animation()\n",
    "@gif for x in 1:1:TurnTimer\n",
    "    push!(p,x,Int[Presas[x],Depredadores[x]])\n",
    "    frame(anim)\n",
    "end"
   ]
  },
  {
   "cell_type": "code",
   "execution_count": 64,
   "metadata": {
    "collapsed": false,
    "slideshow": {
     "slide_type": "slide"
    }
   },
   "outputs": [
    {
     "name": "stderr",
     "output_type": "stream",
     "text": [
      "WARNING: redefining constant NGridSize\n",
      "WARNING: redefining constant α\n",
      "WARNING: redefining constant β\n",
      "WARNING: redefining constant ϵ_inicial\n",
      "WARNING: redefining constant ρ_2\n"
     ]
    },
    {
     "ename": "LoadError",
     "evalue": "LoadError: UndefVarError: sample not defined\nwhile loading In[64], in expression starting on line 16",
     "output_type": "error",
     "traceback": [
      "LoadError: UndefVarError: sample not defined\nwhile loading In[64], in expression starting on line 16",
      "",
      " in BigLoop(::Int64, ::Float64, ::Float64, ::Int64, ::Int64, ::Float64, ::Float64, ::Float64, ::Int64) at ./In[59]:29"
     ]
    }
   ],
   "source": [
    "const NGridSize = 20 :: Int        #Tamaño de Matriz\n",
    "const TurnTimer = 100 :: Int       #Turnos de tiempo global\n",
    "\n",
    "const α = .9                       #Coeficiente de clon de presa\n",
    "\n",
    "const β = .0123                      #Coeficiente de clon de depredador\n",
    "const ϵ_inicial = -2::Int              #Energia inicial para cada clon de depredador\n",
    "const Δϵ = 1 :: Int                #Perdida de energia por paso de tiempo\n",
    "\n",
    "const γ = .2                       #Porcentaje a hacer update en cada turno\n",
    "const ρ_1 = .333                   #Densidad de presas\n",
    "const ρ_2 = .1                     #Densidad de depredadores\n",
    "#######################################\n",
    "\n",
    "\n",
    "Presas, Depredadores, Turnos,Result_Grid = BigLoop(NGridSize,α,β,ϵ_inicial,Δϵ,γ,ρ_1,ρ_2,TurnTimer)\n",
    "presas = Presas[end]; depredadores = Depredadores[end]; turno = Turnos[end]\n",
    "\n",
    "im = imshow(Result_Grid)\n",
    "title(\"Población de presas y depredadores en un mundo toroidal\")\n",
    "################"
   ]
  },
  {
   "cell_type": "code",
   "execution_count": 65,
   "metadata": {
    "collapsed": false,
    "slideshow": {
     "slide_type": "-"
    }
   },
   "outputs": [
    {
     "ename": "LoadError",
     "evalue": "LoadError: UndefVarError: Plots not defined\nwhile loading In[65], in expression starting on line 1",
     "output_type": "error",
     "traceback": [
      "LoadError: UndefVarError: Plots not defined\nwhile loading In[65], in expression starting on line 1",
      ""
     ]
    }
   ],
   "source": [
    "p = Plots.plot([Presas,Depredadores],zeros(0),leg=true)\n",
    "title!(\"Población de Presas y Depredadores vs Turnos\")\n",
    "yaxis!(\"N de presas y depredadores\",0:TurnTimer/10:TurnTimer)\n",
    "xaxis!(\"N de turnos\", 0:1:TurnTimer)\n",
    "\n",
    "anim = Animation()\n",
    "@gif for x in 1:1:TurnTimer\n",
    "    push!(p,x,Int[Presas[x],Depredadores[x]])\n",
    "    frame(anim)\n",
    "end"
   ]
  },
  {
   "cell_type": "code",
   "execution_count": 66,
   "metadata": {
    "collapsed": false,
    "slideshow": {
     "slide_type": "slide"
    }
   },
   "outputs": [
    {
     "name": "stderr",
     "output_type": "stream",
     "text": [
      "WARNING: redefining constant NGridSize\n",
      "WARNING: redefining constant TurnTimer\n",
      "WARNING: redefining constant α\n",
      "WARNING: redefining constant β\n",
      "WARNING: redefining constant ϵ_inicial\n",
      "WARNING: redefining constant ρ_2\n"
     ]
    },
    {
     "ename": "LoadError",
     "evalue": "LoadError: UndefVarError: sample not defined\nwhile loading In[66], in expression starting on line 16",
     "output_type": "error",
     "traceback": [
      "LoadError: UndefVarError: sample not defined\nwhile loading In[66], in expression starting on line 16",
      "",
      " in BigLoop(::Int64, ::Float64, ::Float64, ::Int64, ::Int64, ::Float64, ::Float64, ::Float64, ::Int64) at ./In[59]:29"
     ]
    }
   ],
   "source": [
    "const NGridSize = 50 :: Int        #Tamaño de Matriz\n",
    "const TurnTimer = 300 :: Int       #Turnos de tiempo global\n",
    "\n",
    "const α = .6                       #Coeficiente de clon de presa\n",
    "\n",
    "const β = .02                       #Coeficiente de clon de depredador\n",
    "const ϵ_inicial = -5::Int              #Energia inicial para cada clon de depredador\n",
    "const Δϵ = 1 :: Int                #Perdida de energia por paso de tiempo\n",
    "\n",
    "const γ = .2                       #Porcentaje a hacer update en cada turno\n",
    "const ρ_1 = .333                   #Densidad de presas\n",
    "const ρ_2 = .2                   #Densidad de depredadores\n",
    "#######################################\n",
    "\n",
    "\n",
    "Presas, Depredadores, Turnos,Result_Grid = BigLoop(NGridSize,α,β,ϵ_inicial,Δϵ,γ,ρ_1,ρ_2,TurnTimer)\n",
    "presas = Presas[end]; depredadores = Depredadores[end]; turno = Turnos[end]\n",
    "\n",
    "im = imshow(Result_Grid)\n",
    "title(\"Población de presas y depredadores en un mundo toroidal\")\n",
    "################"
   ]
  },
  {
   "cell_type": "code",
   "execution_count": 67,
   "metadata": {
    "collapsed": false
   },
   "outputs": [
    {
     "ename": "LoadError",
     "evalue": "LoadError: UndefVarError: Plots not defined\nwhile loading In[67], in expression starting on line 1",
     "output_type": "error",
     "traceback": [
      "LoadError: UndefVarError: Plots not defined\nwhile loading In[67], in expression starting on line 1",
      ""
     ]
    }
   ],
   "source": [
    "p = Plots.plot([Presas,Depredadores],zeros(0),leg=true)\n",
    "title!(\"Población de Presas y Depredadores vs Turnos\")\n",
    "yaxis!(\"N de presas y depredadores\",0:TurnTimer/10:TurnTimer)\n",
    "xaxis!(\"N de turnos\", 0:1:TurnTimer)\n",
    "\n",
    "anim = Animation()\n",
    "@gif for x in 1:1:TurnTimer\n",
    "    push!(p,x,Int[Presas[x],Depredadores[x]])\n",
    "    frame(anim)\n",
    "end"
   ]
  },
  {
   "cell_type": "code",
   "execution_count": 68,
   "metadata": {
    "collapsed": false,
    "slideshow": {
     "slide_type": "slide"
    }
   },
   "outputs": [
    {
     "name": "stderr",
     "output_type": "stream",
     "text": [
      "WARNING: redefining constant NGridSize\n",
      "WARNING: redefining constant TurnTimer\n",
      "WARNING: redefining constant α\n",
      "WARNING: redefining constant β\n",
      "WARNING: redefining constant ϵ_inicial\n",
      "WARNING: redefining constant ρ_1\n",
      "WARNING: redefining constant ρ_2\n"
     ]
    },
    {
     "ename": "LoadError",
     "evalue": "LoadError: UndefVarError: sample not defined\nwhile loading In[68], in expression starting on line 16",
     "output_type": "error",
     "traceback": [
      "LoadError: UndefVarError: sample not defined\nwhile loading In[68], in expression starting on line 16",
      "",
      " in BigLoop(::Int64, ::Float64, ::Float64, ::Int64, ::Int64, ::Float64, ::Float64, ::Float64, ::Int64) at ./In[59]:29"
     ]
    }
   ],
   "source": [
    "const NGridSize = 100 :: Int        #Tamaño de Matriz\n",
    "const TurnTimer = 100 :: Int       #Turnos de tiempo global\n",
    "\n",
    "const α = .55                       #Coeficiente de clon de presa\n",
    "\n",
    "const β = .025                       #Coeficiente de clon de depredador\n",
    "const ϵ_inicial = -3::Int              #Energia inicial para cada clon de depredador\n",
    "const Δϵ = 1 :: Int                #Perdida de energia por paso de tiempo\n",
    "\n",
    "const γ = .2                       #Porcentaje a hacer update en cada turno\n",
    "const ρ_1 = .8                     #Densidad de presas\n",
    "const ρ_2 = .1                   #Densidad de depredadores\n",
    "#######################################\n",
    "\n",
    "\n",
    "Presas, Depredadores, Turnos,Result_Grid = BigLoop(NGridSize,α,β,ϵ_inicial,Δϵ,γ,ρ_1,ρ_2,TurnTimer)\n",
    "presas = Presas[end]; depredadores = Depredadores[end]; turno = Turnos[end]\n",
    "\n",
    "im = imshow(Result_Grid)\n",
    "title(\"Población de presas y depredadores en un mundo toroidal\")\n",
    "################"
   ]
  },
  {
   "cell_type": "code",
   "execution_count": 69,
   "metadata": {
    "collapsed": false
   },
   "outputs": [
    {
     "ename": "LoadError",
     "evalue": "LoadError: UndefVarError: Plots not defined\nwhile loading In[69], in expression starting on line 1",
     "output_type": "error",
     "traceback": [
      "LoadError: UndefVarError: Plots not defined\nwhile loading In[69], in expression starting on line 1",
      ""
     ]
    }
   ],
   "source": [
    "p = Plots.plot([Presas,Depredadores],zeros(0),leg=true)\n",
    "title!(\"Población de Presas y Depredadores vs Turnos\")\n",
    "yaxis!(\"N de presas y depredadores\",0:TurnTimer/10:TurnTimer)\n",
    "xaxis!(\"N de turnos\", 0:1:TurnTimer)\n",
    "\n",
    "anim = Animation()\n",
    "@gif for x in 1:1:TurnTimer\n",
    "    push!(p,x,Int[Presas[x],Depredadores[x]])\n",
    "    frame(anim)\n",
    "end"
   ]
  },
  {
   "cell_type": "markdown",
   "metadata": {
    "slideshow": {
     "slide_type": "slide"
    }
   },
   "source": [
    "### Bibliografía\n",
    " Wilenskz, Reisman,2006. \"Thinking Like a Wolf, a Sheep, or a Firefly:Learning Biology Through Constructing and Testing Computational Theories--an Embodied Modeling Approach\", http://ccl.northwestern.edu/papers/wolfsheep.pdf"
   ]
  }
 ],
 "metadata": {
  "anaconda-cloud": {},
  "celltoolbar": "Slideshow",
  "kernelspec": {
   "display_name": "Julia 0.5.0",
   "language": "julia",
   "name": "julia-0.5"
  },
  "language_info": {
   "file_extension": ".jl",
   "mimetype": "application/julia",
   "name": "julia",
   "version": "0.5.0"
  }
 },
 "nbformat": 4,
 "nbformat_minor": 1
}
